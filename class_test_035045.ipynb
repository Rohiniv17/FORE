{
  "nbformat": 4,
  "nbformat_minor": 0,
  "metadata": {
    "colab": {
      "provenance": [],
      "authorship_tag": "ABX9TyN4KrIZV9SbBR3lbA8p/dOs",
      "include_colab_link": true
    },
    "kernelspec": {
      "name": "python3",
      "display_name": "Python 3"
    },
    "language_info": {
      "name": "python"
    }
  },
  "cells": [
    {
      "cell_type": "markdown",
      "metadata": {
        "id": "view-in-github",
        "colab_type": "text"
      },
      "source": [
        "<a href=\"https://colab.research.google.com/github/Rohiniv17/FORE/blob/main/class_test_035045.ipynb\" target=\"_parent\"><img src=\"https://colab.research.google.com/assets/colab-badge.svg\" alt=\"Open In Colab\"/></a>"
      ]
    },
    {
      "cell_type": "code",
      "execution_count": 47,
      "metadata": {
        "id": "pSwSh-6YoS0_"
      },
      "outputs": [],
      "source": [
        "import pandas as pd\n",
        "from sklearn.preprocessing import StandardScaler\n",
        "from sklearn.preprocessing import LabelEncoder\n",
        "from sklearn.model_selection import train_test_split"
      ]
    },
    {
      "cell_type": "code",
      "source": [
        "import tensorflow as tf\n",
        "import numpy as np\n",
        "import matplotlib.pyplot as plt"
      ],
      "metadata": {
        "id": "O1xPWwyKoppo"
      },
      "execution_count": 48,
      "outputs": []
    },
    {
      "cell_type": "code",
      "source": [
        "from IPython.core.interactiveshell import InteractiveShell\n",
        "InteractiveShell.ast_node_interactivity = \"all\"\n",
        "import numpy as np\n",
        "import matplotlib.pyplot as plt"
      ],
      "metadata": {
        "id": "nI24eqQGuSZF"
      },
      "execution_count": 49,
      "outputs": []
    },
    {
      "cell_type": "code",
      "source": [
        "from google.colab import drive\n",
        "drive.mount('/gdrive')"
      ],
      "metadata": {
        "colab": {
          "base_uri": "https://localhost:8080/"
        },
        "id": "fMZ8RDXDpKOw",
        "outputId": "eebb844c-1745-424e-f082-455e733dc663"
      },
      "execution_count": 50,
      "outputs": [
        {
          "output_type": "stream",
          "name": "stdout",
          "text": [
            "Drive already mounted at /gdrive; to attempt to forcibly remount, call drive.mount(\"/gdrive\", force_remount=True).\n"
          ]
        }
      ]
    },
    {
      "cell_type": "code",
      "source": [
        "path = \"/content/sample_data/california_housing_train.csv/\""
      ],
      "metadata": {
        "id": "FpMo49BwpOP_"
      },
      "execution_count": 51,
      "outputs": []
    },
    {
      "cell_type": "code",
      "source": [
        "data = pd.read_csv(\"/content/sample_data/california_housing_train.csv\")"
      ],
      "metadata": {
        "id": "IXa6LUzdpa0u"
      },
      "execution_count": 52,
      "outputs": []
    },
    {
      "cell_type": "code",
      "source": [
        "data.head()"
      ],
      "metadata": {
        "colab": {
          "base_uri": "https://localhost:8080/",
          "height": 270
        },
        "id": "0t-5i0KQpiFu",
        "outputId": "6587f61e-1907-424e-bc95-db7c80458ab4"
      },
      "execution_count": 53,
      "outputs": [
        {
          "output_type": "execute_result",
          "data": {
            "text/plain": [
              "   longitude  latitude  housing_median_age  total_rooms  total_bedrooms  \\\n",
              "0    -114.31     34.19                15.0       5612.0          1283.0   \n",
              "1    -114.47     34.40                19.0       7650.0          1901.0   \n",
              "2    -114.56     33.69                17.0        720.0           174.0   \n",
              "3    -114.57     33.64                14.0       1501.0           337.0   \n",
              "4    -114.57     33.57                20.0       1454.0           326.0   \n",
              "\n",
              "   population  households  median_income  median_house_value  \n",
              "0      1015.0       472.0         1.4936             66900.0  \n",
              "1      1129.0       463.0         1.8200             80100.0  \n",
              "2       333.0       117.0         1.6509             85700.0  \n",
              "3       515.0       226.0         3.1917             73400.0  \n",
              "4       624.0       262.0         1.9250             65500.0  "
            ],
            "text/html": [
              "\n",
              "\n",
              "  <div id=\"df-08d92229-6e30-4e05-a54d-bd767f4b73e7\">\n",
              "    <div class=\"colab-df-container\">\n",
              "      <div>\n",
              "<style scoped>\n",
              "    .dataframe tbody tr th:only-of-type {\n",
              "        vertical-align: middle;\n",
              "    }\n",
              "\n",
              "    .dataframe tbody tr th {\n",
              "        vertical-align: top;\n",
              "    }\n",
              "\n",
              "    .dataframe thead th {\n",
              "        text-align: right;\n",
              "    }\n",
              "</style>\n",
              "<table border=\"1\" class=\"dataframe\">\n",
              "  <thead>\n",
              "    <tr style=\"text-align: right;\">\n",
              "      <th></th>\n",
              "      <th>longitude</th>\n",
              "      <th>latitude</th>\n",
              "      <th>housing_median_age</th>\n",
              "      <th>total_rooms</th>\n",
              "      <th>total_bedrooms</th>\n",
              "      <th>population</th>\n",
              "      <th>households</th>\n",
              "      <th>median_income</th>\n",
              "      <th>median_house_value</th>\n",
              "    </tr>\n",
              "  </thead>\n",
              "  <tbody>\n",
              "    <tr>\n",
              "      <th>0</th>\n",
              "      <td>-114.31</td>\n",
              "      <td>34.19</td>\n",
              "      <td>15.0</td>\n",
              "      <td>5612.0</td>\n",
              "      <td>1283.0</td>\n",
              "      <td>1015.0</td>\n",
              "      <td>472.0</td>\n",
              "      <td>1.4936</td>\n",
              "      <td>66900.0</td>\n",
              "    </tr>\n",
              "    <tr>\n",
              "      <th>1</th>\n",
              "      <td>-114.47</td>\n",
              "      <td>34.40</td>\n",
              "      <td>19.0</td>\n",
              "      <td>7650.0</td>\n",
              "      <td>1901.0</td>\n",
              "      <td>1129.0</td>\n",
              "      <td>463.0</td>\n",
              "      <td>1.8200</td>\n",
              "      <td>80100.0</td>\n",
              "    </tr>\n",
              "    <tr>\n",
              "      <th>2</th>\n",
              "      <td>-114.56</td>\n",
              "      <td>33.69</td>\n",
              "      <td>17.0</td>\n",
              "      <td>720.0</td>\n",
              "      <td>174.0</td>\n",
              "      <td>333.0</td>\n",
              "      <td>117.0</td>\n",
              "      <td>1.6509</td>\n",
              "      <td>85700.0</td>\n",
              "    </tr>\n",
              "    <tr>\n",
              "      <th>3</th>\n",
              "      <td>-114.57</td>\n",
              "      <td>33.64</td>\n",
              "      <td>14.0</td>\n",
              "      <td>1501.0</td>\n",
              "      <td>337.0</td>\n",
              "      <td>515.0</td>\n",
              "      <td>226.0</td>\n",
              "      <td>3.1917</td>\n",
              "      <td>73400.0</td>\n",
              "    </tr>\n",
              "    <tr>\n",
              "      <th>4</th>\n",
              "      <td>-114.57</td>\n",
              "      <td>33.57</td>\n",
              "      <td>20.0</td>\n",
              "      <td>1454.0</td>\n",
              "      <td>326.0</td>\n",
              "      <td>624.0</td>\n",
              "      <td>262.0</td>\n",
              "      <td>1.9250</td>\n",
              "      <td>65500.0</td>\n",
              "    </tr>\n",
              "  </tbody>\n",
              "</table>\n",
              "</div>\n",
              "      <button class=\"colab-df-convert\" onclick=\"convertToInteractive('df-08d92229-6e30-4e05-a54d-bd767f4b73e7')\"\n",
              "              title=\"Convert this dataframe to an interactive table.\"\n",
              "              style=\"display:none;\">\n",
              "\n",
              "  <svg xmlns=\"http://www.w3.org/2000/svg\" height=\"24px\"viewBox=\"0 0 24 24\"\n",
              "       width=\"24px\">\n",
              "    <path d=\"M0 0h24v24H0V0z\" fill=\"none\"/>\n",
              "    <path d=\"M18.56 5.44l.94 2.06.94-2.06 2.06-.94-2.06-.94-.94-2.06-.94 2.06-2.06.94zm-11 1L8.5 8.5l.94-2.06 2.06-.94-2.06-.94L8.5 2.5l-.94 2.06-2.06.94zm10 10l.94 2.06.94-2.06 2.06-.94-2.06-.94-.94-2.06-.94 2.06-2.06.94z\"/><path d=\"M17.41 7.96l-1.37-1.37c-.4-.4-.92-.59-1.43-.59-.52 0-1.04.2-1.43.59L10.3 9.45l-7.72 7.72c-.78.78-.78 2.05 0 2.83L4 21.41c.39.39.9.59 1.41.59.51 0 1.02-.2 1.41-.59l7.78-7.78 2.81-2.81c.8-.78.8-2.07 0-2.86zM5.41 20L4 18.59l7.72-7.72 1.47 1.35L5.41 20z\"/>\n",
              "  </svg>\n",
              "      </button>\n",
              "\n",
              "\n",
              "\n",
              "    <div id=\"df-ab64df43-5c13-4105-86d5-26984122758c\">\n",
              "      <button class=\"colab-df-quickchart\" onclick=\"quickchart('df-ab64df43-5c13-4105-86d5-26984122758c')\"\n",
              "              title=\"Suggest charts.\"\n",
              "              style=\"display:none;\">\n",
              "\n",
              "<svg xmlns=\"http://www.w3.org/2000/svg\" height=\"24px\"viewBox=\"0 0 24 24\"\n",
              "     width=\"24px\">\n",
              "    <g>\n",
              "        <path d=\"M19 3H5c-1.1 0-2 .9-2 2v14c0 1.1.9 2 2 2h14c1.1 0 2-.9 2-2V5c0-1.1-.9-2-2-2zM9 17H7v-7h2v7zm4 0h-2V7h2v10zm4 0h-2v-4h2v4z\"/>\n",
              "    </g>\n",
              "</svg>\n",
              "      </button>\n",
              "    </div>\n",
              "\n",
              "<style>\n",
              "  .colab-df-quickchart {\n",
              "    background-color: #E8F0FE;\n",
              "    border: none;\n",
              "    border-radius: 50%;\n",
              "    cursor: pointer;\n",
              "    display: none;\n",
              "    fill: #1967D2;\n",
              "    height: 32px;\n",
              "    padding: 0 0 0 0;\n",
              "    width: 32px;\n",
              "  }\n",
              "\n",
              "  .colab-df-quickchart:hover {\n",
              "    background-color: #E2EBFA;\n",
              "    box-shadow: 0px 1px 2px rgba(60, 64, 67, 0.3), 0px 1px 3px 1px rgba(60, 64, 67, 0.15);\n",
              "    fill: #174EA6;\n",
              "  }\n",
              "\n",
              "  [theme=dark] .colab-df-quickchart {\n",
              "    background-color: #3B4455;\n",
              "    fill: #D2E3FC;\n",
              "  }\n",
              "\n",
              "  [theme=dark] .colab-df-quickchart:hover {\n",
              "    background-color: #434B5C;\n",
              "    box-shadow: 0px 1px 3px 1px rgba(0, 0, 0, 0.15);\n",
              "    filter: drop-shadow(0px 1px 2px rgba(0, 0, 0, 0.3));\n",
              "    fill: #FFFFFF;\n",
              "  }\n",
              "</style>\n",
              "\n",
              "    <script>\n",
              "      async function quickchart(key) {\n",
              "        const containerElement = document.querySelector('#' + key);\n",
              "        const charts = await google.colab.kernel.invokeFunction(\n",
              "            'suggestCharts', [key], {});\n",
              "      }\n",
              "    </script>\n",
              "\n",
              "      <script>\n",
              "\n",
              "function displayQuickchartButton(domScope) {\n",
              "  let quickchartButtonEl =\n",
              "    domScope.querySelector('#df-ab64df43-5c13-4105-86d5-26984122758c button.colab-df-quickchart');\n",
              "  quickchartButtonEl.style.display =\n",
              "    google.colab.kernel.accessAllowed ? 'block' : 'none';\n",
              "}\n",
              "\n",
              "        displayQuickchartButton(document);\n",
              "      </script>\n",
              "      <style>\n",
              "    .colab-df-container {\n",
              "      display:flex;\n",
              "      flex-wrap:wrap;\n",
              "      gap: 12px;\n",
              "    }\n",
              "\n",
              "    .colab-df-convert {\n",
              "      background-color: #E8F0FE;\n",
              "      border: none;\n",
              "      border-radius: 50%;\n",
              "      cursor: pointer;\n",
              "      display: none;\n",
              "      fill: #1967D2;\n",
              "      height: 32px;\n",
              "      padding: 0 0 0 0;\n",
              "      width: 32px;\n",
              "    }\n",
              "\n",
              "    .colab-df-convert:hover {\n",
              "      background-color: #E2EBFA;\n",
              "      box-shadow: 0px 1px 2px rgba(60, 64, 67, 0.3), 0px 1px 3px 1px rgba(60, 64, 67, 0.15);\n",
              "      fill: #174EA6;\n",
              "    }\n",
              "\n",
              "    [theme=dark] .colab-df-convert {\n",
              "      background-color: #3B4455;\n",
              "      fill: #D2E3FC;\n",
              "    }\n",
              "\n",
              "    [theme=dark] .colab-df-convert:hover {\n",
              "      background-color: #434B5C;\n",
              "      box-shadow: 0px 1px 3px 1px rgba(0, 0, 0, 0.15);\n",
              "      filter: drop-shadow(0px 1px 2px rgba(0, 0, 0, 0.3));\n",
              "      fill: #FFFFFF;\n",
              "    }\n",
              "  </style>\n",
              "\n",
              "      <script>\n",
              "        const buttonEl =\n",
              "          document.querySelector('#df-08d92229-6e30-4e05-a54d-bd767f4b73e7 button.colab-df-convert');\n",
              "        buttonEl.style.display =\n",
              "          google.colab.kernel.accessAllowed ? 'block' : 'none';\n",
              "\n",
              "        async function convertToInteractive(key) {\n",
              "          const element = document.querySelector('#df-08d92229-6e30-4e05-a54d-bd767f4b73e7');\n",
              "          const dataTable =\n",
              "            await google.colab.kernel.invokeFunction('convertToInteractive',\n",
              "                                                     [key], {});\n",
              "          if (!dataTable) return;\n",
              "\n",
              "          const docLinkHtml = 'Like what you see? Visit the ' +\n",
              "            '<a target=\"_blank\" href=https://colab.research.google.com/notebooks/data_table.ipynb>data table notebook</a>'\n",
              "            + ' to learn more about interactive tables.';\n",
              "          element.innerHTML = '';\n",
              "          dataTable['output_type'] = 'display_data';\n",
              "          await google.colab.output.renderOutput(dataTable, element);\n",
              "          const docLink = document.createElement('div');\n",
              "          docLink.innerHTML = docLinkHtml;\n",
              "          element.appendChild(docLink);\n",
              "        }\n",
              "      </script>\n",
              "    </div>\n",
              "  </div>\n"
            ]
          },
          "metadata": {},
          "execution_count": 53
        }
      ]
    },
    {
      "cell_type": "code",
      "source": [
        "data.shape"
      ],
      "metadata": {
        "colab": {
          "base_uri": "https://localhost:8080/"
        },
        "id": "Bp6Af8TirDP8",
        "outputId": "8c961f27-b186-43f0-acd4-5ee56fde1bb4"
      },
      "execution_count": 54,
      "outputs": [
        {
          "output_type": "execute_result",
          "data": {
            "text/plain": [
              "(17000, 9)"
            ]
          },
          "metadata": {},
          "execution_count": 54
        }
      ]
    },
    {
      "cell_type": "code",
      "source": [
        "y = data.pop('median_house_value')"
      ],
      "metadata": {
        "id": "9xie1zXfrFzW"
      },
      "execution_count": 55,
      "outputs": []
    },
    {
      "cell_type": "code",
      "source": [
        "X = data"
      ],
      "metadata": {
        "id": "43mYbuMtsV9N"
      },
      "execution_count": 56,
      "outputs": []
    },
    {
      "cell_type": "code",
      "source": [
        "data.shape"
      ],
      "metadata": {
        "colab": {
          "base_uri": "https://localhost:8080/"
        },
        "id": "QLUNYzLyrX6V",
        "outputId": "ba8c06fd-5d9c-4661-bd73-79da25149c4a"
      },
      "execution_count": 57,
      "outputs": [
        {
          "output_type": "execute_result",
          "data": {
            "text/plain": [
              "(17000, 8)"
            ]
          },
          "metadata": {},
          "execution_count": 57
        }
      ]
    },
    {
      "cell_type": "code",
      "source": [
        "data.isnull().sum()"
      ],
      "metadata": {
        "colab": {
          "base_uri": "https://localhost:8080/"
        },
        "id": "bdoLB5X8raRO",
        "outputId": "77b84886-f0f0-4aa5-dc10-d21a47405af2"
      },
      "execution_count": 58,
      "outputs": [
        {
          "output_type": "execute_result",
          "data": {
            "text/plain": [
              "longitude             0\n",
              "latitude              0\n",
              "housing_median_age    0\n",
              "total_rooms           0\n",
              "total_bedrooms        0\n",
              "population            0\n",
              "households            0\n",
              "median_income         0\n",
              "dtype: int64"
            ]
          },
          "metadata": {},
          "execution_count": 58
        }
      ]
    },
    {
      "cell_type": "code",
      "source": [
        "data['total_bedrooms'].median()"
      ],
      "metadata": {
        "colab": {
          "base_uri": "https://localhost:8080/"
        },
        "id": "VakM4x8ZrdDF",
        "outputId": "b4875eec-8072-4a99-dd34-8a960e4cc064"
      },
      "execution_count": 59,
      "outputs": [
        {
          "output_type": "execute_result",
          "data": {
            "text/plain": [
              "434.0"
            ]
          },
          "metadata": {},
          "execution_count": 59
        }
      ]
    },
    {
      "cell_type": "code",
      "source": [
        "X_train,X_test, y_train,y_test = train_test_split(X, y, test_size = 0.25)"
      ],
      "metadata": {
        "id": "z5EK7iwRsHP0"
      },
      "execution_count": 60,
      "outputs": []
    },
    {
      "cell_type": "code",
      "source": [
        "ss = StandardScaler()\n",
        "ss.fit(X_train)\n"
      ],
      "metadata": {
        "colab": {
          "base_uri": "https://localhost:8080/",
          "height": 75
        },
        "id": "EEiSG7bMsecV",
        "outputId": "ad707311-9011-416c-f6f0-61066d5b0a08"
      },
      "execution_count": 61,
      "outputs": [
        {
          "output_type": "execute_result",
          "data": {
            "text/plain": [
              "StandardScaler()"
            ],
            "text/html": [
              "<style>#sk-container-id-2 {color: black;background-color: white;}#sk-container-id-2 pre{padding: 0;}#sk-container-id-2 div.sk-toggleable {background-color: white;}#sk-container-id-2 label.sk-toggleable__label {cursor: pointer;display: block;width: 100%;margin-bottom: 0;padding: 0.3em;box-sizing: border-box;text-align: center;}#sk-container-id-2 label.sk-toggleable__label-arrow:before {content: \"▸\";float: left;margin-right: 0.25em;color: #696969;}#sk-container-id-2 label.sk-toggleable__label-arrow:hover:before {color: black;}#sk-container-id-2 div.sk-estimator:hover label.sk-toggleable__label-arrow:before {color: black;}#sk-container-id-2 div.sk-toggleable__content {max-height: 0;max-width: 0;overflow: hidden;text-align: left;background-color: #f0f8ff;}#sk-container-id-2 div.sk-toggleable__content pre {margin: 0.2em;color: black;border-radius: 0.25em;background-color: #f0f8ff;}#sk-container-id-2 input.sk-toggleable__control:checked~div.sk-toggleable__content {max-height: 200px;max-width: 100%;overflow: auto;}#sk-container-id-2 input.sk-toggleable__control:checked~label.sk-toggleable__label-arrow:before {content: \"▾\";}#sk-container-id-2 div.sk-estimator input.sk-toggleable__control:checked~label.sk-toggleable__label {background-color: #d4ebff;}#sk-container-id-2 div.sk-label input.sk-toggleable__control:checked~label.sk-toggleable__label {background-color: #d4ebff;}#sk-container-id-2 input.sk-hidden--visually {border: 0;clip: rect(1px 1px 1px 1px);clip: rect(1px, 1px, 1px, 1px);height: 1px;margin: -1px;overflow: hidden;padding: 0;position: absolute;width: 1px;}#sk-container-id-2 div.sk-estimator {font-family: monospace;background-color: #f0f8ff;border: 1px dotted black;border-radius: 0.25em;box-sizing: border-box;margin-bottom: 0.5em;}#sk-container-id-2 div.sk-estimator:hover {background-color: #d4ebff;}#sk-container-id-2 div.sk-parallel-item::after {content: \"\";width: 100%;border-bottom: 1px solid gray;flex-grow: 1;}#sk-container-id-2 div.sk-label:hover label.sk-toggleable__label {background-color: #d4ebff;}#sk-container-id-2 div.sk-serial::before {content: \"\";position: absolute;border-left: 1px solid gray;box-sizing: border-box;top: 0;bottom: 0;left: 50%;z-index: 0;}#sk-container-id-2 div.sk-serial {display: flex;flex-direction: column;align-items: center;background-color: white;padding-right: 0.2em;padding-left: 0.2em;position: relative;}#sk-container-id-2 div.sk-item {position: relative;z-index: 1;}#sk-container-id-2 div.sk-parallel {display: flex;align-items: stretch;justify-content: center;background-color: white;position: relative;}#sk-container-id-2 div.sk-item::before, #sk-container-id-2 div.sk-parallel-item::before {content: \"\";position: absolute;border-left: 1px solid gray;box-sizing: border-box;top: 0;bottom: 0;left: 50%;z-index: -1;}#sk-container-id-2 div.sk-parallel-item {display: flex;flex-direction: column;z-index: 1;position: relative;background-color: white;}#sk-container-id-2 div.sk-parallel-item:first-child::after {align-self: flex-end;width: 50%;}#sk-container-id-2 div.sk-parallel-item:last-child::after {align-self: flex-start;width: 50%;}#sk-container-id-2 div.sk-parallel-item:only-child::after {width: 0;}#sk-container-id-2 div.sk-dashed-wrapped {border: 1px dashed gray;margin: 0 0.4em 0.5em 0.4em;box-sizing: border-box;padding-bottom: 0.4em;background-color: white;}#sk-container-id-2 div.sk-label label {font-family: monospace;font-weight: bold;display: inline-block;line-height: 1.2em;}#sk-container-id-2 div.sk-label-container {text-align: center;}#sk-container-id-2 div.sk-container {/* jupyter's `normalize.less` sets `[hidden] { display: none; }` but bootstrap.min.css set `[hidden] { display: none !important; }` so we also need the `!important` here to be able to override the default hidden behavior on the sphinx rendered scikit-learn.org. See: https://github.com/scikit-learn/scikit-learn/issues/21755 */display: inline-block !important;position: relative;}#sk-container-id-2 div.sk-text-repr-fallback {display: none;}</style><div id=\"sk-container-id-2\" class=\"sk-top-container\"><div class=\"sk-text-repr-fallback\"><pre>StandardScaler()</pre><b>In a Jupyter environment, please rerun this cell to show the HTML representation or trust the notebook. <br />On GitHub, the HTML representation is unable to render, please try loading this page with nbviewer.org.</b></div><div class=\"sk-container\" hidden><div class=\"sk-item\"><div class=\"sk-estimator sk-toggleable\"><input class=\"sk-toggleable__control sk-hidden--visually\" id=\"sk-estimator-id-2\" type=\"checkbox\" checked><label for=\"sk-estimator-id-2\" class=\"sk-toggleable__label sk-toggleable__label-arrow\">StandardScaler</label><div class=\"sk-toggleable__content\"><pre>StandardScaler()</pre></div></div></div></div></div>"
            ]
          },
          "metadata": {},
          "execution_count": 61
        }
      ]
    },
    {
      "cell_type": "code",
      "source": [
        "X_train = ss.transform(X_train)\n",
        "X_test = ss.transform(X_test)\n"
      ],
      "metadata": {
        "id": "cNsXvSMFshK9"
      },
      "execution_count": 62,
      "outputs": []
    },
    {
      "cell_type": "code",
      "source": [
        "model = tf.keras.Sequential()\n"
      ],
      "metadata": {
        "id": "l6__cToUslPd"
      },
      "execution_count": 63,
      "outputs": []
    },
    {
      "cell_type": "code",
      "source": [
        "model.add( tf.keras.layers.Input(shape = (8,) ))"
      ],
      "metadata": {
        "id": "Vp1DM1Gjso_d"
      },
      "execution_count": 64,
      "outputs": []
    },
    {
      "cell_type": "code",
      "source": [
        "model.add(tf.keras.layers.Dense(150, activation = 'relu'))\n"
      ],
      "metadata": {
        "id": "LCFrm9aXsrWF"
      },
      "execution_count": 65,
      "outputs": []
    },
    {
      "cell_type": "code",
      "source": [
        "model.add(tf.keras.layers.Dense(150, activation = 'relu'))\n"
      ],
      "metadata": {
        "id": "uFlBz5KXsv5l"
      },
      "execution_count": 66,
      "outputs": []
    },
    {
      "cell_type": "code",
      "source": [
        "model.add(tf.keras.layers.Dense(1, activation = 'sigmoid'))"
      ],
      "metadata": {
        "id": "1WKAMlGSszeN"
      },
      "execution_count": 67,
      "outputs": []
    },
    {
      "cell_type": "code",
      "source": [
        "from tensorflow.keras.utils import plot_model"
      ],
      "metadata": {
        "id": "5sZKeEkxs8tM"
      },
      "execution_count": 68,
      "outputs": []
    },
    {
      "cell_type": "code",
      "source": [
        "model.summary()"
      ],
      "metadata": {
        "colab": {
          "base_uri": "https://localhost:8080/"
        },
        "id": "qS7xIxpGu_Kb",
        "outputId": "4ff20483-b63c-4d75-fded-176ae03688fe"
      },
      "execution_count": 73,
      "outputs": [
        {
          "output_type": "stream",
          "name": "stdout",
          "text": [
            "Model: \"sequential_1\"\n",
            "_________________________________________________________________\n",
            " Layer (type)                Output Shape              Param #   \n",
            "=================================================================\n",
            " dense_3 (Dense)             (None, 150)               1350      \n",
            "                                                                 \n",
            " dense_4 (Dense)             (None, 150)               22650     \n",
            "                                                                 \n",
            " dense_5 (Dense)             (None, 1)                 151       \n",
            "                                                                 \n",
            "=================================================================\n",
            "Total params: 24,151\n",
            "Trainable params: 24,151\n",
            "Non-trainable params: 0\n",
            "_________________________________________________________________\n"
          ]
        }
      ]
    },
    {
      "cell_type": "code",
      "source": [
        "plot_model(model, show_shapes=True)\n"
      ],
      "metadata": {
        "colab": {
          "base_uri": "https://localhost:8080/",
          "height": 422
        },
        "id": "M00NSKEUs2Al",
        "outputId": "b183ae65-f910-4bdc-c557-11d2872a21a9"
      },
      "execution_count": 69,
      "outputs": [
        {
          "output_type": "execute_result",
          "data": {
            "image/png": "[encoded data removed]",
            "text/plain": [
              "<IPython.core.display.Image object>"
            ]
          },
          "metadata": {},
          "execution_count": 69
        }
      ]
    },
    {
      "cell_type": "code",
      "source": [
        "model.compile(\n",
        "loss = 'binary_crossentropy',\n",
        "optimizer = 'adam',\n",
        "metrics = ['acc', 'mae']\n",
        " )"
      ],
      "metadata": {
        "id": "G_Y69Fqrs5jm"
      },
      "execution_count": 70,
      "outputs": []
    },
    {
      "cell_type": "code",
      "source": [
        "history1 = model.fit(X_train,y_train,\n",
        "epochs = 100,\n",
        "validation_data = (X_test, y_test)\n",
        ")\n"
      ],
      "metadata": {
        "colab": {
          "base_uri": "https://localhost:8080/"
        },
        "id": "Z7S_4G5VtHD6",
        "outputId": "ec4f8f68-dcf1-4cee-8992-8594c7866fdd"
      },
      "execution_count": 71,
      "outputs": [
        {
          "output_type": "stream",
          "name": "stdout",
          "text": [
            "Epoch 1/100\n",
            "399/399 [==============================] - 2s 3ms/step - loss: -657311808.0000 - acc: 0.0000e+00 - mae: 207165.1562 - val_loss: -2798260992.0000 - val_acc: 0.0000e+00 - val_mae: 207704.5156\n",
            "Epoch 2/100\n",
            "399/399 [==============================] - 1s 3ms/step - loss: -10651628544.0000 - acc: 0.0000e+00 - mae: 207165.2031 - val_loss: -22915594240.0000 - val_acc: 0.0000e+00 - val_mae: 207704.5156\n",
            "Epoch 3/100\n",
            "399/399 [==============================] - 1s 3ms/step - loss: -44966432768.0000 - acc: 0.0000e+00 - mae: 207164.9219 - val_loss: -73894756352.0000 - val_acc: 0.0000e+00 - val_mae: 207704.5156\n",
            "Epoch 4/100\n",
            "399/399 [==============================] - 1s 3ms/step - loss: -114466160640.0000 - acc: 0.0000e+00 - mae: 207165.0312 - val_loss: -164179820544.0000 - val_acc: 0.0000e+00 - val_mae: 207704.5156\n",
            "Epoch 5/100\n",
            "399/399 [==============================] - 1s 3ms/step - loss: -225514962944.0000 - acc: 0.0000e+00 - mae: 207165.0625 - val_loss: -299296522240.0000 - val_acc: 0.0000e+00 - val_mae: 207704.5156\n",
            "Epoch 6/100\n",
            "399/399 [==============================] - 1s 3ms/step - loss: -383569887232.0000 - acc: 0.0000e+00 - mae: 207165.0938 - val_loss: -483906322432.0000 - val_acc: 0.0000e+00 - val_mae: 207704.5156\n",
            "Epoch 7/100\n",
            "399/399 [==============================] - 2s 5ms/step - loss: -592796123136.0000 - acc: 0.0000e+00 - mae: 207165.0312 - val_loss: -721265164288.0000 - val_acc: 0.0000e+00 - val_mae: 207704.5156\n",
            "Epoch 8/100\n",
            "399/399 [==============================] - 2s 5ms/step - loss: -854744956928.0000 - acc: 0.0000e+00 - mae: 207165.0938 - val_loss: -1013057454080.0000 - val_acc: 0.0000e+00 - val_mae: 207704.5156\n",
            "Epoch 9/100\n",
            "399/399 [==============================] - 1s 3ms/step - loss: -1173042102272.0000 - acc: 0.0000e+00 - mae: 207165.0312 - val_loss: -1363968786432.0000 - val_acc: 0.0000e+00 - val_mae: 207704.5156\n",
            "Epoch 10/100\n",
            "399/399 [==============================] - 1s 3ms/step - loss: -1550513340416.0000 - acc: 0.0000e+00 - mae: 207165.0312 - val_loss: -1774164508672.0000 - val_acc: 0.0000e+00 - val_mae: 207704.5156\n",
            "Epoch 11/100\n",
            "399/399 [==============================] - 1s 3ms/step - loss: -1988001267712.0000 - acc: 0.0000e+00 - mae: 207165.0781 - val_loss: -2246643810304.0000 - val_acc: 0.0000e+00 - val_mae: 207704.5156\n",
            "Epoch 12/100\n",
            "399/399 [==============================] - 1s 3ms/step - loss: -2487851941888.0000 - acc: 0.0000e+00 - mae: 207165.1562 - val_loss: -2783988940800.0000 - val_acc: 0.0000e+00 - val_mae: 207704.5156\n",
            "Epoch 13/100\n",
            "399/399 [==============================] - 1s 3ms/step - loss: -3052921159680.0000 - acc: 0.0000e+00 - mae: 207164.9531 - val_loss: -3387686387712.0000 - val_acc: 0.0000e+00 - val_mae: 207704.5156\n",
            "Epoch 14/100\n",
            "399/399 [==============================] - 1s 3ms/step - loss: -3686460293120.0000 - acc: 0.0000e+00 - mae: 207165.0938 - val_loss: -4061959553024.0000 - val_acc: 0.0000e+00 - val_mae: 207704.5156\n",
            "Epoch 15/100\n",
            "399/399 [==============================] - 1s 3ms/step - loss: -4388001677312.0000 - acc: 0.0000e+00 - mae: 207165.0938 - val_loss: -4804833705984.0000 - val_acc: 0.0000e+00 - val_mae: 207704.5156\n",
            "Epoch 16/100\n",
            "399/399 [==============================] - 1s 3ms/step - loss: -5161702391808.0000 - acc: 0.0000e+00 - mae: 207165.0625 - val_loss: -5622881320960.0000 - val_acc: 0.0000e+00 - val_mae: 207704.5156\n",
            "Epoch 17/100\n",
            "399/399 [==============================] - 2s 5ms/step - loss: -6010148749312.0000 - acc: 0.0000e+00 - mae: 207165.0781 - val_loss: -6516959608832.0000 - val_acc: 0.0000e+00 - val_mae: 207704.5156\n",
            "Epoch 18/100\n",
            "399/399 [==============================] - 2s 4ms/step - loss: -6935977918464.0000 - acc: 0.0000e+00 - mae: 207165.1250 - val_loss: -7489566801920.0000 - val_acc: 0.0000e+00 - val_mae: 207704.5156\n",
            "Epoch 19/100\n",
            "399/399 [==============================] - 2s 4ms/step - loss: -7941437521920.0000 - acc: 0.0000e+00 - mae: 207165.0000 - val_loss: -8545254768640.0000 - val_acc: 0.0000e+00 - val_mae: 207704.5156\n",
            "Epoch 20/100\n",
            "399/399 [==============================] - 1s 3ms/step - loss: -9029410619392.0000 - acc: 0.0000e+00 - mae: 207165.0625 - val_loss: -9685104066560.0000 - val_acc: 0.0000e+00 - val_mae: 207704.5156\n",
            "Epoch 21/100\n",
            "399/399 [==============================] - 1s 3ms/step - loss: -10203245314048.0000 - acc: 0.0000e+00 - mae: 207165.1250 - val_loss: -10913152237568.0000 - val_acc: 0.0000e+00 - val_mae: 207704.5156\n",
            "Epoch 22/100\n",
            "399/399 [==============================] - 1s 3ms/step - loss: -11464444215296.0000 - acc: 0.0000e+00 - mae: 207165.1250 - val_loss: -12229876383744.0000 - val_acc: 0.0000e+00 - val_mae: 207704.5156\n",
            "Epoch 23/100\n",
            "399/399 [==============================] - 1s 3ms/step - loss: -12815949627392.0000 - acc: 0.0000e+00 - mae: 207165.1406 - val_loss: -13636723539968.0000 - val_acc: 0.0000e+00 - val_mae: 207704.5156\n",
            "Epoch 24/100\n",
            "399/399 [==============================] - 1s 3ms/step - loss: -14258849972224.0000 - acc: 0.0000e+00 - mae: 207165.0938 - val_loss: -15139900227584.0000 - val_acc: 0.0000e+00 - val_mae: 207704.5156\n",
            "Epoch 25/100\n",
            "399/399 [==============================] - 1s 3ms/step - loss: -15797069021184.0000 - acc: 0.0000e+00 - mae: 207165.2031 - val_loss: -16741400838144.0000 - val_acc: 0.0000e+00 - val_mae: 207704.5156\n",
            "Epoch 26/100\n",
            "399/399 [==============================] - 1s 3ms/step - loss: -17433093996544.0000 - acc: 0.0000e+00 - mae: 207165.0781 - val_loss: -18441570353152.0000 - val_acc: 0.0000e+00 - val_mae: 207704.5156\n",
            "Epoch 27/100\n",
            "399/399 [==============================] - 1s 3ms/step - loss: -19166572576768.0000 - acc: 0.0000e+00 - mae: 207165.1250 - val_loss: -20238477295616.0000 - val_acc: 0.0000e+00 - val_mae: 207704.5156\n",
            "Epoch 28/100\n",
            "399/399 [==============================] - 2s 5ms/step - loss: -21000894808064.0000 - acc: 0.0000e+00 - mae: 207165.0156 - val_loss: -22142043291648.0000 - val_acc: 0.0000e+00 - val_mae: 207704.5156\n",
            "Epoch 29/100\n",
            "399/399 [==============================] - 2s 5ms/step - loss: -22943419596800.0000 - acc: 0.0000e+00 - mae: 207165.0625 - val_loss: -24156888367104.0000 - val_acc: 0.0000e+00 - val_mae: 207704.5156\n",
            "Epoch 30/100\n",
            "399/399 [==============================] - 1s 3ms/step - loss: -24992265797632.0000 - acc: 0.0000e+00 - mae: 207165.0000 - val_loss: -26277887082496.0000 - val_acc: 0.0000e+00 - val_mae: 207704.5156\n",
            "Epoch 31/100\n",
            "399/399 [==============================] - 1s 3ms/step - loss: -27153437556736.0000 - acc: 0.0000e+00 - mae: 207165.0938 - val_loss: -28510433312768.0000 - val_acc: 0.0000e+00 - val_mae: 207704.5156\n",
            "Epoch 32/100\n",
            "399/399 [==============================] - 1s 3ms/step - loss: -29427694043136.0000 - acc: 0.0000e+00 - mae: 207165.0781 - val_loss: -30860464095232.0000 - val_acc: 0.0000e+00 - val_mae: 207704.5156\n",
            "Epoch 33/100\n",
            "399/399 [==============================] - 1s 3ms/step - loss: -31820158599168.0000 - acc: 0.0000e+00 - mae: 207165.1562 - val_loss: -33338320486400.0000 - val_acc: 0.0000e+00 - val_mae: 207704.5156\n",
            "Epoch 34/100\n",
            "399/399 [==============================] - 1s 3ms/step - loss: -34331665891328.0000 - acc: 0.0000e+00 - mae: 207165.0625 - val_loss: -35930064814080.0000 - val_acc: 0.0000e+00 - val_mae: 207704.5156\n",
            "Epoch 35/100\n",
            "399/399 [==============================] - 1s 3ms/step - loss: -36960261373952.0000 - acc: 0.0000e+00 - mae: 207165.0781 - val_loss: -38637920059392.0000 - val_acc: 0.0000e+00 - val_mae: 207704.5156\n",
            "Epoch 36/100\n",
            "399/399 [==============================] - 1s 3ms/step - loss: -39709141106688.0000 - acc: 0.0000e+00 - mae: 207165.1562 - val_loss: -41473823211520.0000 - val_acc: 0.0000e+00 - val_mae: 207704.5156\n",
            "Epoch 37/100\n",
            "399/399 [==============================] - 1s 3ms/step - loss: -42582923018240.0000 - acc: 0.0000e+00 - mae: 207165.1250 - val_loss: -44434825674752.0000 - val_acc: 0.0000e+00 - val_mae: 207704.5156\n",
            "Epoch 38/100\n",
            "399/399 [==============================] - 2s 4ms/step - loss: -45579560288256.0000 - acc: 0.0000e+00 - mae: 207165.0312 - val_loss: -47520227000320.0000 - val_acc: 0.0000e+00 - val_mae: 207704.5156\n",
            "Epoch 39/100\n",
            "399/399 [==============================] - 2s 5ms/step - loss: -48708544626688.0000 - acc: 0.0000e+00 - mae: 207165.0312 - val_loss: -50735626584064.0000 - val_acc: 0.0000e+00 - val_mae: 207704.5156\n",
            "Epoch 40/100\n",
            "399/399 [==============================] - 1s 3ms/step - loss: -51977169928192.0000 - acc: 0.0000e+00 - mae: 207165.0156 - val_loss: -54105489801216.0000 - val_acc: 0.0000e+00 - val_mae: 207704.5156\n",
            "Epoch 41/100\n",
            "399/399 [==============================] - 1s 2ms/step - loss: -55377387323392.0000 - acc: 0.0000e+00 - mae: 207165.0156 - val_loss: -57597013000192.0000 - val_acc: 0.0000e+00 - val_mae: 207704.5156\n",
            "Epoch 42/100\n",
            "399/399 [==============================] - 1s 3ms/step - loss: -58908647358464.0000 - acc: 0.0000e+00 - mae: 207165.1562 - val_loss: -61233864638464.0000 - val_acc: 0.0000e+00 - val_mae: 207704.5156\n",
            "Epoch 43/100\n",
            "399/399 [==============================] - 1s 3ms/step - loss: -62580567572480.0000 - acc: 0.0000e+00 - mae: 207165.0781 - val_loss: -65001209462784.0000 - val_acc: 0.0000e+00 - val_mae: 207704.5156\n",
            "Epoch 44/100\n",
            "399/399 [==============================] - 1s 3ms/step - loss: -66401129725952.0000 - acc: 0.0000e+00 - mae: 207165.0938 - val_loss: -68933495291904.0000 - val_acc: 0.0000e+00 - val_mae: 207704.5156\n",
            "Epoch 45/100\n",
            "399/399 [==============================] - 1s 3ms/step - loss: -70362989592576.0000 - acc: 0.0000e+00 - mae: 207165.0938 - val_loss: -73004797132800.0000 - val_acc: 0.0000e+00 - val_mae: 207704.5156\n",
            "Epoch 46/100\n",
            "399/399 [==============================] - 1s 3ms/step - loss: -74470194675712.0000 - acc: 0.0000e+00 - mae: 207165.0625 - val_loss: -77220257202176.0000 - val_acc: 0.0000e+00 - val_mae: 207704.5156\n",
            "Epoch 47/100\n",
            "399/399 [==============================] - 1s 2ms/step - loss: -78722749169664.0000 - acc: 0.0000e+00 - mae: 207165.0938 - val_loss: -81585839800320.0000 - val_acc: 0.0000e+00 - val_mae: 207704.5156\n",
            "Epoch 48/100\n",
            "399/399 [==============================] - 1s 2ms/step - loss: -83133898686464.0000 - acc: 0.0000e+00 - mae: 207165.0156 - val_loss: -86100991279104.0000 - val_acc: 0.0000e+00 - val_mae: 207704.5156\n",
            "Epoch 49/100\n",
            "399/399 [==============================] - 2s 4ms/step - loss: -87695002959872.0000 - acc: 0.0000e+00 - mae: 207165.1250 - val_loss: -90783403212800.0000 - val_acc: 0.0000e+00 - val_mae: 207704.5156\n",
            "Epoch 50/100\n",
            "399/399 [==============================] - 2s 5ms/step - loss: -92415885049856.0000 - acc: 0.0000e+00 - mae: 207165.0938 - val_loss: -95619075014656.0000 - val_acc: 0.0000e+00 - val_mae: 207704.5156\n",
            "Epoch 51/100\n",
            "399/399 [==============================] - 2s 4ms/step - loss: -97293919322112.0000 - acc: 0.0000e+00 - mae: 207165.0156 - val_loss: -100619071258624.0000 - val_acc: 0.0000e+00 - val_mae: 207704.5156\n",
            "Epoch 52/100\n",
            "399/399 [==============================] - 1s 2ms/step - loss: -102336093487104.0000 - acc: 0.0000e+00 - mae: 207165.0312 - val_loss: -105784146919424.0000 - val_acc: 0.0000e+00 - val_mae: 207704.5156\n",
            "Epoch 53/100\n",
            "399/399 [==============================] - 1s 2ms/step - loss: -107535470166016.0000 - acc: 0.0000e+00 - mae: 207164.9531 - val_loss: -111106492203008.0000 - val_acc: 0.0000e+00 - val_mae: 207704.5156\n",
            "Epoch 54/100\n",
            "399/399 [==============================] - 1s 3ms/step - loss: -112897367736320.0000 - acc: 0.0000e+00 - mae: 207165.0781 - val_loss: -116609653932032.0000 - val_acc: 0.0000e+00 - val_mae: 207704.5156\n",
            "Epoch 55/100\n",
            "399/399 [==============================] - 1s 3ms/step - loss: -118434402664448.0000 - acc: 0.0000e+00 - mae: 207165.0312 - val_loss: -122270445993984.0000 - val_acc: 0.0000e+00 - val_mae: 207704.5156\n",
            "Epoch 56/100\n",
            "399/399 [==============================] - 1s 3ms/step - loss: -124145887084544.0000 - acc: 0.0000e+00 - mae: 207165.0938 - val_loss: -128109177208832.0000 - val_acc: 0.0000e+00 - val_mae: 207704.5156\n",
            "Epoch 57/100\n",
            "399/399 [==============================] - 1s 3ms/step - loss: -130028834652160.0000 - acc: 0.0000e+00 - mae: 207165.0156 - val_loss: -134133489598464.0000 - val_acc: 0.0000e+00 - val_mae: 207704.5156\n",
            "Epoch 58/100\n",
            "399/399 [==============================] - 1s 3ms/step - loss: -136087137681408.0000 - acc: 0.0000e+00 - mae: 207165.0000 - val_loss: -140343022452736.0000 - val_acc: 0.0000e+00 - val_mae: 207704.5156\n",
            "Epoch 59/100\n",
            "399/399 [==============================] - 1s 3ms/step - loss: -142328807292928.0000 - acc: 0.0000e+00 - mae: 207165.0625 - val_loss: -146727340343296.0000 - val_acc: 0.0000e+00 - val_mae: 207704.5156\n",
            "Epoch 60/100\n",
            "399/399 [==============================] - 2s 4ms/step - loss: -148759379968000.0000 - acc: 0.0000e+00 - mae: 207165.0781 - val_loss: -153300368359424.0000 - val_acc: 0.0000e+00 - val_mae: 207704.5156\n",
            "Epoch 61/100\n",
            "399/399 [==============================] - 2s 5ms/step - loss: -155370794254336.0000 - acc: 0.0000e+00 - mae: 207165.1562 - val_loss: -160066166587392.0000 - val_acc: 0.0000e+00 - val_mae: 207704.5156\n",
            "Epoch 62/100\n",
            "399/399 [==============================] - 2s 4ms/step - loss: -162175784058880.0000 - acc: 0.0000e+00 - mae: 207165.0938 - val_loss: -167008511459328.0000 - val_acc: 0.0000e+00 - val_mae: 207704.5156\n",
            "Epoch 63/100\n",
            "399/399 [==============================] - 1s 3ms/step - loss: -169159870644224.0000 - acc: 0.0000e+00 - mae: 207165.0625 - val_loss: -174146730328064.0000 - val_acc: 0.0000e+00 - val_mae: 207704.5156\n",
            "Epoch 64/100\n",
            "399/399 [==============================] - 1s 3ms/step - loss: -176325604147200.0000 - acc: 0.0000e+00 - mae: 207165.1250 - val_loss: -181465539149824.0000 - val_acc: 0.0000e+00 - val_mae: 207704.5156\n",
            "Epoch 65/100\n",
            "399/399 [==============================] - 1s 3ms/step - loss: -183672145707008.0000 - acc: 0.0000e+00 - mae: 207165.0156 - val_loss: -188971564924928.0000 - val_acc: 0.0000e+00 - val_mae: 207704.5156\n",
            "Epoch 66/100\n",
            "399/399 [==============================] - 1s 3ms/step - loss: -191207380615168.0000 - acc: 0.0000e+00 - mae: 207165.0938 - val_loss: -196667223572480.0000 - val_acc: 0.0000e+00 - val_mae: 207704.5156\n",
            "Epoch 67/100\n",
            "399/399 [==============================] - 1s 3ms/step - loss: -198954394320896.0000 - acc: 0.0000e+00 - mae: 207165.0781 - val_loss: -204578721103872.0000 - val_acc: 0.0000e+00 - val_mae: 207704.5156\n",
            "Epoch 68/100\n",
            "399/399 [==============================] - 1s 3ms/step - loss: -206904915656704.0000 - acc: 0.0000e+00 - mae: 207165.0781 - val_loss: -212705587757056.0000 - val_acc: 0.0000e+00 - val_mae: 207704.5156\n",
            "Epoch 69/100\n",
            "399/399 [==============================] - 1s 3ms/step - loss: -215061108883456.0000 - acc: 0.0000e+00 - mae: 207165.0312 - val_loss: -221028311629824.0000 - val_acc: 0.0000e+00 - val_mae: 207704.5156\n",
            "Epoch 70/100\n",
            "399/399 [==============================] - 1s 3ms/step - loss: -223416296669184.0000 - acc: 0.0000e+00 - mae: 207164.9531 - val_loss: -229557143601152.0000 - val_acc: 0.0000e+00 - val_mae: 207704.5156\n",
            "Epoch 71/100\n",
            "399/399 [==============================] - 1s 3ms/step - loss: -231982441168896.0000 - acc: 0.0000e+00 - mae: 207165.1250 - val_loss: -238305404780544.0000 - val_acc: 0.0000e+00 - val_mae: 207704.5156\n",
            "Epoch 72/100\n",
            "399/399 [==============================] - 2s 4ms/step - loss: -240758451863552.0000 - acc: 0.0000e+00 - mae: 207165.1250 - val_loss: -247244993331200.0000 - val_acc: 0.0000e+00 - val_mae: 207704.5156\n",
            "Epoch 73/100\n",
            "399/399 [==============================] - 2s 5ms/step - loss: -249743607332864.0000 - acc: 0.0000e+00 - mae: 207165.0938 - val_loss: -256422919012352.0000 - val_acc: 0.0000e+00 - val_mae: 207704.5156\n",
            "Epoch 74/100\n",
            "399/399 [==============================] - 1s 3ms/step - loss: -258929988730880.0000 - acc: 0.0000e+00 - mae: 207165.1406 - val_loss: -265782357393408.0000 - val_acc: 0.0000e+00 - val_mae: 207704.5156\n",
            "Epoch 75/100\n",
            "399/399 [==============================] - 1s 4ms/step - loss: -268315280801792.0000 - acc: 0.0000e+00 - mae: 207165.0312 - val_loss: -275365150851072.0000 - val_acc: 0.0000e+00 - val_mae: 207704.5156\n",
            "Epoch 76/100\n",
            "399/399 [==============================] - 1s 3ms/step - loss: -277928474574848.0000 - acc: 0.0000e+00 - mae: 207165.0312 - val_loss: -285170628296704.0000 - val_acc: 0.0000e+00 - val_mae: 207704.5156\n",
            "Epoch 77/100\n",
            "399/399 [==============================] - 1s 3ms/step - loss: -287776431931392.0000 - acc: 0.0000e+00 - mae: 207165.0312 - val_loss: -295202833039360.0000 - val_acc: 0.0000e+00 - val_mae: 207704.5156\n",
            "Epoch 78/100\n",
            "399/399 [==============================] - 1s 3ms/step - loss: -297850311278592.0000 - acc: 0.0000e+00 - mae: 207165.0312 - val_loss: -305489481039872.0000 - val_acc: 0.0000e+00 - val_mae: 207704.5156\n",
            "Epoch 79/100\n",
            "399/399 [==============================] - 1s 4ms/step - loss: -308147931578368.0000 - acc: 0.0000e+00 - mae: 207165.1250 - val_loss: -315959772446720.0000 - val_acc: 0.0000e+00 - val_mae: 207704.5156\n",
            "Epoch 80/100\n",
            "399/399 [==============================] - 1s 3ms/step - loss: -318681674416128.0000 - acc: 0.0000e+00 - mae: 207165.0156 - val_loss: -326722457174016.0000 - val_acc: 0.0000e+00 - val_mae: 207704.5156\n",
            "Epoch 81/100\n",
            "399/399 [==============================] - 1s 3ms/step - loss: -329446674399232.0000 - acc: 0.0000e+00 - mae: 207165.0938 - val_loss: -337679690498048.0000 - val_acc: 0.0000e+00 - val_mae: 207704.5156\n",
            "Epoch 82/100\n",
            "399/399 [==============================] - 2s 4ms/step - loss: -340439274094592.0000 - acc: 0.0000e+00 - mae: 207165.0156 - val_loss: -348877274218496.0000 - val_acc: 0.0000e+00 - val_mae: 207704.5156\n",
            "Epoch 83/100\n",
            "399/399 [==============================] - 2s 5ms/step - loss: -351659171512320.0000 - acc: 0.0000e+00 - mae: 207165.0938 - val_loss: -360327959019520.0000 - val_acc: 0.0000e+00 - val_mae: 207704.5156\n",
            "Epoch 84/100\n",
            "399/399 [==============================] - 2s 4ms/step - loss: -363136699858944.0000 - acc: 0.0000e+00 - mae: 207165.1250 - val_loss: -372010068738048.0000 - val_acc: 0.0000e+00 - val_mae: 207704.5156\n",
            "Epoch 85/100\n",
            "399/399 [==============================] - 1s 3ms/step - loss: -374840687067136.0000 - acc: 0.0000e+00 - mae: 207165.0156 - val_loss: -383918536654848.0000 - val_acc: 0.0000e+00 - val_mae: 207704.5156\n",
            "Epoch 86/100\n",
            "399/399 [==============================] - 1s 3ms/step - loss: -386806868606976.0000 - acc: 0.0000e+00 - mae: 207165.0312 - val_loss: -396122451345408.0000 - val_acc: 0.0000e+00 - val_mae: 207704.5156\n",
            "Epoch 87/100\n",
            "399/399 [==============================] - 1s 3ms/step - loss: -398989140688896.0000 - acc: 0.0000e+00 - mae: 207165.0781 - val_loss: -408499406241792.0000 - val_acc: 0.0000e+00 - val_mae: 207704.5156\n",
            "Epoch 88/100\n",
            "399/399 [==============================] - 1s 3ms/step - loss: -411422534139904.0000 - acc: 0.0000e+00 - mae: 207165.1250 - val_loss: -421159795425280.0000 - val_acc: 0.0000e+00 - val_mae: 207704.5156\n",
            "Epoch 89/100\n",
            "399/399 [==============================] - 1s 3ms/step - loss: -424103290863616.0000 - acc: 0.0000e+00 - mae: 207165.0312 - val_loss: -434118047301632.0000 - val_acc: 0.0000e+00 - val_mae: 207704.5156\n",
            "Epoch 90/100\n",
            "399/399 [==============================] - 1s 2ms/step - loss: -437029431148544.0000 - acc: 0.0000e+00 - mae: 207164.9844 - val_loss: -447237125570560.0000 - val_acc: 0.0000e+00 - val_mae: 207704.5156\n",
            "Epoch 91/100\n",
            "399/399 [==============================] - 1s 3ms/step - loss: -450220315901952.0000 - acc: 0.0000e+00 - mae: 207165.0625 - val_loss: -460675910467584.0000 - val_acc: 0.0000e+00 - val_mae: 207704.5156\n",
            "Epoch 92/100\n",
            "399/399 [==============================] - 1s 3ms/step - loss: -463679602556928.0000 - acc: 0.0000e+00 - mae: 207165.0781 - val_loss: -474390848339968.0000 - val_acc: 0.0000e+00 - val_mae: 207704.5156\n",
            "Epoch 93/100\n",
            "399/399 [==============================] - 2s 5ms/step - loss: -477384406990848.0000 - acc: 0.0000e+00 - mae: 207165.0781 - val_loss: -488328184987648.0000 - val_acc: 0.0000e+00 - val_mae: 207704.5156\n",
            "Epoch 94/100\n",
            "399/399 [==============================] - 2s 4ms/step - loss: -491349962915840.0000 - acc: 0.0000e+00 - mae: 207165.1562 - val_loss: -502533420220416.0000 - val_acc: 0.0000e+00 - val_mae: 207704.5156\n",
            "Epoch 95/100\n",
            "399/399 [==============================] - 1s 4ms/step - loss: -505593550864384.0000 - acc: 0.0000e+00 - mae: 207165.0938 - val_loss: -517054268440576.0000 - val_acc: 0.0000e+00 - val_mae: 207704.5156\n",
            "Epoch 96/100\n",
            "399/399 [==============================] - 1s 3ms/step - loss: -520120573100032.0000 - acc: 0.0000e+00 - mae: 207165.0000 - val_loss: -531843854106624.0000 - val_acc: 0.0000e+00 - val_mae: 207704.5156\n",
            "Epoch 97/100\n",
            "399/399 [==============================] - 1s 3ms/step - loss: -534925828685824.0000 - acc: 0.0000e+00 - mae: 207165.0938 - val_loss: -546895533441024.0000 - val_acc: 0.0000e+00 - val_mae: 207704.5156\n",
            "Epoch 98/100\n",
            "399/399 [==============================] - 1s 3ms/step - loss: -549982843174912.0000 - acc: 0.0000e+00 - mae: 207165.0000 - val_loss: -562204474605568.0000 - val_acc: 0.0000e+00 - val_mae: 207704.5156\n",
            "Epoch 99/100\n",
            "399/399 [==============================] - 1s 3ms/step - loss: -565290442162176.0000 - acc: 0.0000e+00 - mae: 207164.9531 - val_loss: -577750276505600.0000 - val_acc: 0.0000e+00 - val_mae: 207704.5156\n",
            "Epoch 100/100\n",
            "399/399 [==============================] - 1s 4ms/step - loss: -580882918277120.0000 - acc: 0.0000e+00 - mae: 207165.0781 - val_loss: -593608168177664.0000 - val_acc: 0.0000e+00 - val_mae: 207704.5156\n"
          ]
        }
      ]
    },
    {
      "cell_type": "code",
      "source": [
        "loss = history1.history['loss']\n",
        "val_loss = history1.history['val_loss']\n",
        "plt.plot(loss, label = \"train_loss\")\n",
        "plt.plot(val_loss, label = \"val loss\")\n",
        "plt.legend()"
      ],
      "metadata": {
        "colab": {
          "base_uri": "https://localhost:8080/",
          "height": 480
        },
        "id": "xeVY7dGftQvi",
        "outputId": "4de11711-2aa8-4e8f-dfce-d7e78920d272"
      },
      "execution_count": 72,
      "outputs": [
        {
          "output_type": "execute_result",
          "data": {
            "text/plain": [
              "[<matplotlib.lines.Line2D at 0x7e1d74777370>]"
            ]
          },
          "metadata": {},
          "execution_count": 72
        },
        {
          "output_type": "execute_result",
          "data": {
            "text/plain": [
              "[<matplotlib.lines.Line2D at 0x7e1d747775e0>]"
            ]
          },
          "metadata": {},
          "execution_count": 72
        },
        {
          "output_type": "execute_result",
          "data": {
            "text/plain": [
              "<matplotlib.legend.Legend at 0x7e1d7473e8c0>"
            ]
          },
          "metadata": {},
          "execution_count": 72
        },
        {
          "output_type": "display_data",
          "data": {
            "text/plain": [
              "<Figure size 640x480 with 1 Axes>"
            ],
            "image/png": "[encoded data removed]"
          },
          "metadata": {}
        }
      ]
    },
    {
      "cell_type": "code",
      "source": [
        "model.evaluate(X_test,y_test)"
      ],
      "metadata": {
        "colab": {
          "base_uri": "https://localhost:8080/"
        },
        "id": "CTQQAwo6t94k",
        "outputId": "f1f45cab-ba0c-4163-8aac-002918a80864"
      },
      "execution_count": 74,
      "outputs": [
        {
          "output_type": "stream",
          "name": "stdout",
          "text": [
            "133/133 [==============================] - 0s 3ms/step - loss: -593608168177664.0000 - acc: 0.0000e+00 - mae: 207704.5156\n"
          ]
        },
        {
          "output_type": "execute_result",
          "data": {
            "text/plain": [
              "[-593608168177664.0, 0.0, 207704.515625]"
            ]
          },
          "metadata": {},
          "execution_count": 74
        }
      ]
    },
    {
      "cell_type": "code",
      "source": [],
      "metadata": {
        "id": "iZTHXzVJvEuL"
      },
      "execution_count": null,
      "outputs": []
    }
  ]
}