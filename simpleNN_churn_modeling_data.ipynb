{
  "nbformat": 4,
  "nbformat_minor": 0,
  "metadata": {
    "colab": {
      "provenance": [],
      "include_colab_link": true
    },
    "kernelspec": {
      "name": "python3",
      "display_name": "Python 3"
    },
    "language_info": {
      "name": "python"
    }
  },
  "cells": [
    {
      "cell_type": "markdown",
      "metadata": {
        "id": "view-in-github",
        "colab_type": "text"
      },
      "source": [
        "<a href=\"https://colab.research.google.com/github/Rohiniv17/FORE/blob/main/simpleNN_churn_modeling_data.ipynb\" target=\"_parent\"><img src=\"https://colab.research.google.com/assets/colab-badge.svg\" alt=\"Open In Colab\"/></a>"
      ]
    },
    {
      "cell_type": "code",
      "source": [
        "# Last amended: 12th Nov, 2022\n",
        "# **********************************************************\n",
        "# BETTER SEE THE OTHER FILE: simpleNN churn_prediction.ipynb\n",
        "#***********************************************************\n",
        "# Bank churn modeling dataset\n",
        "# Experiments with NN\n",
        "# https://www.kaggle.com/code/kmalit/bank-customer-churn-prediction/data"
      ],
      "metadata": {
        "id": "VDuKXUJ_L8S2"
      },
      "execution_count": 5,
      "outputs": []
    },
    {
      "cell_type": "code",
      "execution_count": 6,
      "metadata": {
        "id": "t4NDs_JPESg_"
      },
      "outputs": [],
      "source": [
        "# 1.0\n",
        "import pandas as pd\n",
        "from sklearn.preprocessing import StandardScaler, MinMaxScaler\n",
        "from sklearn.preprocessing import LabelEncoder, OneHotEncoder\n",
        "from sklearn.model_selection import train_test_split\n",
        "\n",
        "# 1.1\n",
        "import tensorflow as tf\n",
        "\n",
        "# 1.2 Helper libraries\n",
        "import numpy as np\n",
        "import matplotlib.pyplot as plt\n"
      ]
    },
    {
      "cell_type": "code",
      "source": [
        "from IPython.core.interactiveshell import InteractiveShell\n",
        "InteractiveShell.ast_node_interactivity = \"all\"\n"
      ],
      "metadata": {
        "id": "s1Efxo5Qp62F"
      },
      "execution_count": 7,
      "outputs": []
    },
    {
      "cell_type": "code",
      "source": [
        "# 2.0 Mount google drive\n",
        "from google.colab import drive\n",
        "drive.mount('/gdrive')"
      ],
      "metadata": {
        "id": "11UKqlGTu9ka",
        "outputId": "c998314f-8710-473e-fc00-222e0b80de44",
        "colab": {
          "base_uri": "https://localhost:8080/"
        }
      },
      "execution_count": 8,
      "outputs": [
        {
          "output_type": "stream",
          "name": "stdout",
          "text": [
            "Mounted at /gdrive\n"
          ]
        }
      ]
    },
    {
      "cell_type": "code",
      "source": [
        "# 2.1 Read Bank Customers churn data\n",
        "\n",
        "path = \"/gdrive/MyDrive/Deeplearning/\"\n"
      ],
      "metadata": {
        "id": "e_KwcYMREcUy"
      },
      "execution_count": 9,
      "outputs": []
    },
    {
      "cell_type": "markdown",
      "source": [
        "# New Section"
      ],
      "metadata": {
        "id": "SmGxuD3UdhkL"
      }
    },
    {
      "cell_type": "code",
      "source": [
        "# 2.2\n",
        "data = pd.read_csv(path + \"churn_modelling.csv\")"
      ],
      "metadata": {
        "id": "lnhu8ZR5wznf"
      },
      "execution_count": 10,
      "outputs": []
    },
    {
      "cell_type": "code",
      "source": [
        "# 2.2.1\n",
        "data.head()"
      ],
      "metadata": {
        "id": "kV5KxQnLvimq",
        "outputId": "37e31bda-5eff-48b0-a605-2b9ea770d722",
        "colab": {
          "base_uri": "https://localhost:8080/",
          "height": 250
        }
      },
      "execution_count": 11,
      "outputs": [
        {
          "output_type": "execute_result",
          "data": {
            "text/plain": [
              "   RowNumber  CustomerId   Surname  CreditScore Geography  Gender  Age  \\\n",
              "0          1    15634602  Hargrave          619    France  Female   42   \n",
              "1          2    15647311      Hill          608     Spain  Female   41   \n",
              "2          3    15619304      Onio          502    France  Female   42   \n",
              "3          4    15701354      Boni          699    France  Female   39   \n",
              "4          5    15737888  Mitchell          850     Spain  Female   43   \n",
              "\n",
              "   Tenure    Balance  NumOfProducts  HasCrCard  IsActiveMember  \\\n",
              "0       2       0.00              1          1               1   \n",
              "1       1   83807.86              1          0               1   \n",
              "2       8  159660.80              3          1               0   \n",
              "3       1       0.00              2          0               0   \n",
              "4       2  125510.82              1          1               1   \n",
              "\n",
              "   EstimatedSalary  Exited  \n",
              "0        101348.88       1  \n",
              "1        112542.58       0  \n",
              "2        113931.57       1  \n",
              "3         93826.63       0  \n",
              "4         79084.10       0  "
            ],
            "text/html": [
              "\n",
              "\n",
              "  <div id=\"df-f0d36841-e5da-4df2-ae93-13c8b8d61fee\">\n",
              "    <div class=\"colab-df-container\">\n",
              "      <div>\n",
              "<style scoped>\n",
              "    .dataframe tbody tr th:only-of-type {\n",
              "        vertical-align: middle;\n",
              "    }\n",
              "\n",
              "    .dataframe tbody tr th {\n",
              "        vertical-align: top;\n",
              "    }\n",
              "\n",
              "    .dataframe thead th {\n",
              "        text-align: right;\n",
              "    }\n",
              "</style>\n",
              "<table border=\"1\" class=\"dataframe\">\n",
              "  <thead>\n",
              "    <tr style=\"text-align: right;\">\n",
              "      <th></th>\n",
              "      <th>RowNumber</th>\n",
              "      <th>CustomerId</th>\n",
              "      <th>Surname</th>\n",
              "      <th>CreditScore</th>\n",
              "      <th>Geography</th>\n",
              "      <th>Gender</th>\n",
              "      <th>Age</th>\n",
              "      <th>Tenure</th>\n",
              "      <th>Balance</th>\n",
              "      <th>NumOfProducts</th>\n",
              "      <th>HasCrCard</th>\n",
              "      <th>IsActiveMember</th>\n",
              "      <th>EstimatedSalary</th>\n",
              "      <th>Exited</th>\n",
              "    </tr>\n",
              "  </thead>\n",
              "  <tbody>\n",
              "    <tr>\n",
              "      <th>0</th>\n",
              "      <td>1</td>\n",
              "      <td>15634602</td>\n",
              "      <td>Hargrave</td>\n",
              "      <td>619</td>\n",
              "      <td>France</td>\n",
              "      <td>Female</td>\n",
              "      <td>42</td>\n",
              "      <td>2</td>\n",
              "      <td>0.00</td>\n",
              "      <td>1</td>\n",
              "      <td>1</td>\n",
              "      <td>1</td>\n",
              "      <td>101348.88</td>\n",
              "      <td>1</td>\n",
              "    </tr>\n",
              "    <tr>\n",
              "      <th>1</th>\n",
              "      <td>2</td>\n",
              "      <td>15647311</td>\n",
              "      <td>Hill</td>\n",
              "      <td>608</td>\n",
              "      <td>Spain</td>\n",
              "      <td>Female</td>\n",
              "      <td>41</td>\n",
              "      <td>1</td>\n",
              "      <td>83807.86</td>\n",
              "      <td>1</td>\n",
              "      <td>0</td>\n",
              "      <td>1</td>\n",
              "      <td>112542.58</td>\n",
              "      <td>0</td>\n",
              "    </tr>\n",
              "    <tr>\n",
              "      <th>2</th>\n",
              "      <td>3</td>\n",
              "      <td>15619304</td>\n",
              "      <td>Onio</td>\n",
              "      <td>502</td>\n",
              "      <td>France</td>\n",
              "      <td>Female</td>\n",
              "      <td>42</td>\n",
              "      <td>8</td>\n",
              "      <td>159660.80</td>\n",
              "      <td>3</td>\n",
              "      <td>1</td>\n",
              "      <td>0</td>\n",
              "      <td>113931.57</td>\n",
              "      <td>1</td>\n",
              "    </tr>\n",
              "    <tr>\n",
              "      <th>3</th>\n",
              "      <td>4</td>\n",
              "      <td>15701354</td>\n",
              "      <td>Boni</td>\n",
              "      <td>699</td>\n",
              "      <td>France</td>\n",
              "      <td>Female</td>\n",
              "      <td>39</td>\n",
              "      <td>1</td>\n",
              "      <td>0.00</td>\n",
              "      <td>2</td>\n",
              "      <td>0</td>\n",
              "      <td>0</td>\n",
              "      <td>93826.63</td>\n",
              "      <td>0</td>\n",
              "    </tr>\n",
              "    <tr>\n",
              "      <th>4</th>\n",
              "      <td>5</td>\n",
              "      <td>15737888</td>\n",
              "      <td>Mitchell</td>\n",
              "      <td>850</td>\n",
              "      <td>Spain</td>\n",
              "      <td>Female</td>\n",
              "      <td>43</td>\n",
              "      <td>2</td>\n",
              "      <td>125510.82</td>\n",
              "      <td>1</td>\n",
              "      <td>1</td>\n",
              "      <td>1</td>\n",
              "      <td>79084.10</td>\n",
              "      <td>0</td>\n",
              "    </tr>\n",
              "  </tbody>\n",
              "</table>\n",
              "</div>\n",
              "      <button class=\"colab-df-convert\" onclick=\"convertToInteractive('df-f0d36841-e5da-4df2-ae93-13c8b8d61fee')\"\n",
              "              title=\"Convert this dataframe to an interactive table.\"\n",
              "              style=\"display:none;\">\n",
              "\n",
              "  <svg xmlns=\"http://www.w3.org/2000/svg\" height=\"24px\"viewBox=\"0 0 24 24\"\n",
              "       width=\"24px\">\n",
              "    <path d=\"M0 0h24v24H0V0z\" fill=\"none\"/>\n",
              "    <path d=\"M18.56 5.44l.94 2.06.94-2.06 2.06-.94-2.06-.94-.94-2.06-.94 2.06-2.06.94zm-11 1L8.5 8.5l.94-2.06 2.06-.94-2.06-.94L8.5 2.5l-.94 2.06-2.06.94zm10 10l.94 2.06.94-2.06 2.06-.94-2.06-.94-.94-2.06-.94 2.06-2.06.94z\"/><path d=\"M17.41 7.96l-1.37-1.37c-.4-.4-.92-.59-1.43-.59-.52 0-1.04.2-1.43.59L10.3 9.45l-7.72 7.72c-.78.78-.78 2.05 0 2.83L4 21.41c.39.39.9.59 1.41.59.51 0 1.02-.2 1.41-.59l7.78-7.78 2.81-2.81c.8-.78.8-2.07 0-2.86zM5.41 20L4 18.59l7.72-7.72 1.47 1.35L5.41 20z\"/>\n",
              "  </svg>\n",
              "      </button>\n",
              "\n",
              "\n",
              "\n",
              "    <div id=\"df-bcac10eb-d15d-4e54-945e-145c8e914af5\">\n",
              "      <button class=\"colab-df-quickchart\" onclick=\"quickchart('df-bcac10eb-d15d-4e54-945e-145c8e914af5')\"\n",
              "              title=\"Suggest charts.\"\n",
              "              style=\"display:none;\">\n",
              "\n",
              "<svg xmlns=\"http://www.w3.org/2000/svg\" height=\"24px\"viewBox=\"0 0 24 24\"\n",
              "     width=\"24px\">\n",
              "    <g>\n",
              "        <path d=\"M19 3H5c-1.1 0-2 .9-2 2v14c0 1.1.9 2 2 2h14c1.1 0 2-.9 2-2V5c0-1.1-.9-2-2-2zM9 17H7v-7h2v7zm4 0h-2V7h2v10zm4 0h-2v-4h2v4z\"/>\n",
              "    </g>\n",
              "</svg>\n",
              "      </button>\n",
              "    </div>\n",
              "\n",
              "<style>\n",
              "  .colab-df-quickchart {\n",
              "    background-color: #E8F0FE;\n",
              "    border: none;\n",
              "    border-radius: 50%;\n",
              "    cursor: pointer;\n",
              "    display: none;\n",
              "    fill: #1967D2;\n",
              "    height: 32px;\n",
              "    padding: 0 0 0 0;\n",
              "    width: 32px;\n",
              "  }\n",
              "\n",
              "  .colab-df-quickchart:hover {\n",
              "    background-color: #E2EBFA;\n",
              "    box-shadow: 0px 1px 2px rgba(60, 64, 67, 0.3), 0px 1px 3px 1px rgba(60, 64, 67, 0.15);\n",
              "    fill: #174EA6;\n",
              "  }\n",
              "\n",
              "  [theme=dark] .colab-df-quickchart {\n",
              "    background-color: #3B4455;\n",
              "    fill: #D2E3FC;\n",
              "  }\n",
              "\n",
              "  [theme=dark] .colab-df-quickchart:hover {\n",
              "    background-color: #434B5C;\n",
              "    box-shadow: 0px 1px 3px 1px rgba(0, 0, 0, 0.15);\n",
              "    filter: drop-shadow(0px 1px 2px rgba(0, 0, 0, 0.3));\n",
              "    fill: #FFFFFF;\n",
              "  }\n",
              "</style>\n",
              "\n",
              "    <script>\n",
              "      async function quickchart(key) {\n",
              "        const containerElement = document.querySelector('#' + key);\n",
              "        const charts = await google.colab.kernel.invokeFunction(\n",
              "            'suggestCharts', [key], {});\n",
              "      }\n",
              "    </script>\n",
              "\n",
              "      <script>\n",
              "\n",
              "function displayQuickchartButton(domScope) {\n",
              "  let quickchartButtonEl =\n",
              "    domScope.querySelector('#df-bcac10eb-d15d-4e54-945e-145c8e914af5 button.colab-df-quickchart');\n",
              "  quickchartButtonEl.style.display =\n",
              "    google.colab.kernel.accessAllowed ? 'block' : 'none';\n",
              "}\n",
              "\n",
              "        displayQuickchartButton(document);\n",
              "      </script>\n",
              "      <style>\n",
              "    .colab-df-container {\n",
              "      display:flex;\n",
              "      flex-wrap:wrap;\n",
              "      gap: 12px;\n",
              "    }\n",
              "\n",
              "    .colab-df-convert {\n",
              "      background-color: #E8F0FE;\n",
              "      border: none;\n",
              "      border-radius: 50%;\n",
              "      cursor: pointer;\n",
              "      display: none;\n",
              "      fill: #1967D2;\n",
              "      height: 32px;\n",
              "      padding: 0 0 0 0;\n",
              "      width: 32px;\n",
              "    }\n",
              "\n",
              "    .colab-df-convert:hover {\n",
              "      background-color: #E2EBFA;\n",
              "      box-shadow: 0px 1px 2px rgba(60, 64, 67, 0.3), 0px 1px 3px 1px rgba(60, 64, 67, 0.15);\n",
              "      fill: #174EA6;\n",
              "    }\n",
              "\n",
              "    [theme=dark] .colab-df-convert {\n",
              "      background-color: #3B4455;\n",
              "      fill: #D2E3FC;\n",
              "    }\n",
              "\n",
              "    [theme=dark] .colab-df-convert:hover {\n",
              "      background-color: #434B5C;\n",
              "      box-shadow: 0px 1px 3px 1px rgba(0, 0, 0, 0.15);\n",
              "      filter: drop-shadow(0px 1px 2px rgba(0, 0, 0, 0.3));\n",
              "      fill: #FFFFFF;\n",
              "    }\n",
              "  </style>\n",
              "\n",
              "      <script>\n",
              "        const buttonEl =\n",
              "          document.querySelector('#df-f0d36841-e5da-4df2-ae93-13c8b8d61fee button.colab-df-convert');\n",
              "        buttonEl.style.display =\n",
              "          google.colab.kernel.accessAllowed ? 'block' : 'none';\n",
              "\n",
              "        async function convertToInteractive(key) {\n",
              "          const element = document.querySelector('#df-f0d36841-e5da-4df2-ae93-13c8b8d61fee');\n",
              "          const dataTable =\n",
              "            await google.colab.kernel.invokeFunction('convertToInteractive',\n",
              "                                                     [key], {});\n",
              "          if (!dataTable) return;\n",
              "\n",
              "          const docLinkHtml = 'Like what you see? Visit the ' +\n",
              "            '<a target=\"_blank\" href=https://colab.research.google.com/notebooks/data_table.ipynb>data table notebook</a>'\n",
              "            + ' to learn more about interactive tables.';\n",
              "          element.innerHTML = '';\n",
              "          dataTable['output_type'] = 'display_data';\n",
              "          await google.colab.output.renderOutput(dataTable, element);\n",
              "          const docLink = document.createElement('div');\n",
              "          docLink.innerHTML = docLinkHtml;\n",
              "          element.appendChild(docLink);\n",
              "        }\n",
              "      </script>\n",
              "    </div>\n",
              "  </div>\n"
            ]
          },
          "metadata": {},
          "execution_count": 11
        }
      ]
    },
    {
      "cell_type": "code",
      "source": [
        "# 2.2.2\n",
        "data.shape   # (10000, 14)"
      ],
      "metadata": {
        "id": "xvzzZC1_vlP9",
        "outputId": "b84b67f3-4d8f-461f-f1a7-aa9e9190ba49",
        "colab": {
          "base_uri": "https://localhost:8080/"
        }
      },
      "execution_count": 12,
      "outputs": [
        {
          "output_type": "execute_result",
          "data": {
            "text/plain": [
              "(10000, 14)"
            ]
          },
          "metadata": {},
          "execution_count": 12
        }
      ]
    },
    {
      "cell_type": "code",
      "source": [
        "# 2.3 Pop out target\n",
        "y = data.pop('Exited')"
      ],
      "metadata": {
        "id": "N3KCovgwEtmt"
      },
      "execution_count": 13,
      "outputs": []
    },
    {
      "cell_type": "code",
      "source": [
        "# 2.3.1\n",
        "data.shape   # (10000,13)"
      ],
      "metadata": {
        "colab": {
          "base_uri": "https://localhost:8080/"
        },
        "id": "GmDd06fNJjsM",
        "outputId": "a2d54b69-8504-4dde-eb17-026985c7848c"
      },
      "execution_count": 14,
      "outputs": [
        {
          "output_type": "execute_result",
          "data": {
            "text/plain": [
              "(10000, 13)"
            ]
          },
          "metadata": {},
          "execution_count": 14
        }
      ]
    },
    {
      "cell_type": "code",
      "source": [
        "# 3.0 Check NULL\n",
        "data.isnull().sum()"
      ],
      "metadata": {
        "id": "fG-9A9AN8MZp",
        "outputId": "1ab130cd-77f8-42ec-fe94-ceb271a1c39d",
        "colab": {
          "base_uri": "https://localhost:8080/"
        }
      },
      "execution_count": 15,
      "outputs": [
        {
          "output_type": "execute_result",
          "data": {
            "text/plain": [
              "RowNumber          0\n",
              "CustomerId         0\n",
              "Surname            0\n",
              "CreditScore        0\n",
              "Geography          0\n",
              "Gender             0\n",
              "Age                0\n",
              "Tenure             0\n",
              "Balance            0\n",
              "NumOfProducts      0\n",
              "HasCrCard          0\n",
              "IsActiveMember     0\n",
              "EstimatedSalary    0\n",
              "dtype: int64"
            ]
          },
          "metadata": {},
          "execution_count": 15
        }
      ]
    },
    {
      "cell_type": "code",
      "source": [
        "data['Gender'].value_counts()"
      ],
      "metadata": {
        "id": "C0pJJwXYgJAx",
        "outputId": "7ca1903a-fe6d-4218-ef1f-a80e123acdf4",
        "colab": {
          "base_uri": "https://localhost:8080/"
        }
      },
      "execution_count": 16,
      "outputs": [
        {
          "output_type": "execute_result",
          "data": {
            "text/plain": [
              "Male      5457\n",
              "Female    4543\n",
              "Name: Gender, dtype: int64"
            ]
          },
          "metadata": {},
          "execution_count": 16
        }
      ]
    },
    {
      "cell_type": "code",
      "source": [
        "data['Geography'].unique()"
      ],
      "metadata": {
        "id": "cCy__OAYgNNL",
        "outputId": "0347c4fc-073e-4e11-c4ca-4940bc12ce82",
        "colab": {
          "base_uri": "https://localhost:8080/"
        }
      },
      "execution_count": 17,
      "outputs": [
        {
          "output_type": "execute_result",
          "data": {
            "text/plain": [
              "array(['France', 'Spain', 'Germany'], dtype=object)"
            ]
          },
          "metadata": {},
          "execution_count": 17
        }
      ]
    },
    {
      "cell_type": "code",
      "source": [
        "data['Geography'].nunique()"
      ],
      "metadata": {
        "id": "RZJJnOeihKkH",
        "outputId": "2820ae87-e426-4a31-9d39-9f8c6d014a27",
        "colab": {
          "base_uri": "https://localhost:8080/"
        }
      },
      "execution_count": 18,
      "outputs": [
        {
          "output_type": "execute_result",
          "data": {
            "text/plain": [
              "3"
            ]
          },
          "metadata": {},
          "execution_count": 18
        }
      ]
    },
    {
      "cell_type": "code",
      "source": [
        "data['Gender'] = data['Gender'].map({'Female' : 1, 'Male' : 0})"
      ],
      "metadata": {
        "id": "3Q4VjYaRn7qA"
      },
      "execution_count": 19,
      "outputs": []
    },
    {
      "cell_type": "code",
      "source": [
        "data['Geography'].unique()"
      ],
      "metadata": {
        "colab": {
          "base_uri": "https://localhost:8080/"
        },
        "id": "GV49Z3ZuoJvx",
        "outputId": "8bc8f3a7-fc0f-40be-ec24-09f86cf5ce80"
      },
      "execution_count": 20,
      "outputs": [
        {
          "output_type": "execute_result",
          "data": {
            "text/plain": [
              "array(['France', 'Spain', 'Germany'], dtype=object)"
            ]
          },
          "metadata": {},
          "execution_count": 20
        }
      ]
    },
    {
      "cell_type": "code",
      "source": [
        "data['Geography'] = data['Geography'].map({'France' : 0, 'Spain' : 1, 'Germany' : 2})"
      ],
      "metadata": {
        "id": "LmH2_2IWoO9N"
      },
      "execution_count": 21,
      "outputs": []
    },
    {
      "cell_type": "code",
      "source": [
        "# 3.2 Categorical features:\n",
        "data[:2]"
      ],
      "metadata": {
        "id": "WyDhQZsHJmMk",
        "outputId": "781fd569-8434-4c2d-a4e2-b85648d0cc42",
        "colab": {
          "base_uri": "https://localhost:8080/",
          "height": 112
        }
      },
      "execution_count": 22,
      "outputs": [
        {
          "output_type": "execute_result",
          "data": {
            "text/plain": [
              "   RowNumber  CustomerId   Surname  CreditScore  Geography  Gender  Age  \\\n",
              "0          1    15634602  Hargrave          619          0       1   42   \n",
              "1          2    15647311      Hill          608          1       1   41   \n",
              "\n",
              "   Tenure   Balance  NumOfProducts  HasCrCard  IsActiveMember  EstimatedSalary  \n",
              "0       2      0.00              1          1               1        101348.88  \n",
              "1       1  83807.86              1          0               1        112542.58  "
            ],
            "text/html": [
              "\n",
              "\n",
              "  <div id=\"df-ac2dda93-5f7d-4c2c-b434-7dec3fad82f1\">\n",
              "    <div class=\"colab-df-container\">\n",
              "      <div>\n",
              "<style scoped>\n",
              "    .dataframe tbody tr th:only-of-type {\n",
              "        vertical-align: middle;\n",
              "    }\n",
              "\n",
              "    .dataframe tbody tr th {\n",
              "        vertical-align: top;\n",
              "    }\n",
              "\n",
              "    .dataframe thead th {\n",
              "        text-align: right;\n",
              "    }\n",
              "</style>\n",
              "<table border=\"1\" class=\"dataframe\">\n",
              "  <thead>\n",
              "    <tr style=\"text-align: right;\">\n",
              "      <th></th>\n",
              "      <th>RowNumber</th>\n",
              "      <th>CustomerId</th>\n",
              "      <th>Surname</th>\n",
              "      <th>CreditScore</th>\n",
              "      <th>Geography</th>\n",
              "      <th>Gender</th>\n",
              "      <th>Age</th>\n",
              "      <th>Tenure</th>\n",
              "      <th>Balance</th>\n",
              "      <th>NumOfProducts</th>\n",
              "      <th>HasCrCard</th>\n",
              "      <th>IsActiveMember</th>\n",
              "      <th>EstimatedSalary</th>\n",
              "    </tr>\n",
              "  </thead>\n",
              "  <tbody>\n",
              "    <tr>\n",
              "      <th>0</th>\n",
              "      <td>1</td>\n",
              "      <td>15634602</td>\n",
              "      <td>Hargrave</td>\n",
              "      <td>619</td>\n",
              "      <td>0</td>\n",
              "      <td>1</td>\n",
              "      <td>42</td>\n",
              "      <td>2</td>\n",
              "      <td>0.00</td>\n",
              "      <td>1</td>\n",
              "      <td>1</td>\n",
              "      <td>1</td>\n",
              "      <td>101348.88</td>\n",
              "    </tr>\n",
              "    <tr>\n",
              "      <th>1</th>\n",
              "      <td>2</td>\n",
              "      <td>15647311</td>\n",
              "      <td>Hill</td>\n",
              "      <td>608</td>\n",
              "      <td>1</td>\n",
              "      <td>1</td>\n",
              "      <td>41</td>\n",
              "      <td>1</td>\n",
              "      <td>83807.86</td>\n",
              "      <td>1</td>\n",
              "      <td>0</td>\n",
              "      <td>1</td>\n",
              "      <td>112542.58</td>\n",
              "    </tr>\n",
              "  </tbody>\n",
              "</table>\n",
              "</div>\n",
              "      <button class=\"colab-df-convert\" onclick=\"convertToInteractive('df-ac2dda93-5f7d-4c2c-b434-7dec3fad82f1')\"\n",
              "              title=\"Convert this dataframe to an interactive table.\"\n",
              "              style=\"display:none;\">\n",
              "\n",
              "  <svg xmlns=\"http://www.w3.org/2000/svg\" height=\"24px\"viewBox=\"0 0 24 24\"\n",
              "       width=\"24px\">\n",
              "    <path d=\"M0 0h24v24H0V0z\" fill=\"none\"/>\n",
              "    <path d=\"M18.56 5.44l.94 2.06.94-2.06 2.06-.94-2.06-.94-.94-2.06-.94 2.06-2.06.94zm-11 1L8.5 8.5l.94-2.06 2.06-.94-2.06-.94L8.5 2.5l-.94 2.06-2.06.94zm10 10l.94 2.06.94-2.06 2.06-.94-2.06-.94-.94-2.06-.94 2.06-2.06.94z\"/><path d=\"M17.41 7.96l-1.37-1.37c-.4-.4-.92-.59-1.43-.59-.52 0-1.04.2-1.43.59L10.3 9.45l-7.72 7.72c-.78.78-.78 2.05 0 2.83L4 21.41c.39.39.9.59 1.41.59.51 0 1.02-.2 1.41-.59l7.78-7.78 2.81-2.81c.8-.78.8-2.07 0-2.86zM5.41 20L4 18.59l7.72-7.72 1.47 1.35L5.41 20z\"/>\n",
              "  </svg>\n",
              "      </button>\n",
              "\n",
              "\n",
              "\n",
              "    <div id=\"df-add316ce-0c51-4105-84eb-1616126df6c3\">\n",
              "      <button class=\"colab-df-quickchart\" onclick=\"quickchart('df-add316ce-0c51-4105-84eb-1616126df6c3')\"\n",
              "              title=\"Suggest charts.\"\n",
              "              style=\"display:none;\">\n",
              "\n",
              "<svg xmlns=\"http://www.w3.org/2000/svg\" height=\"24px\"viewBox=\"0 0 24 24\"\n",
              "     width=\"24px\">\n",
              "    <g>\n",
              "        <path d=\"M19 3H5c-1.1 0-2 .9-2 2v14c0 1.1.9 2 2 2h14c1.1 0 2-.9 2-2V5c0-1.1-.9-2-2-2zM9 17H7v-7h2v7zm4 0h-2V7h2v10zm4 0h-2v-4h2v4z\"/>\n",
              "    </g>\n",
              "</svg>\n",
              "      </button>\n",
              "    </div>\n",
              "\n",
              "<style>\n",
              "  .colab-df-quickchart {\n",
              "    background-color: #E8F0FE;\n",
              "    border: none;\n",
              "    border-radius: 50%;\n",
              "    cursor: pointer;\n",
              "    display: none;\n",
              "    fill: #1967D2;\n",
              "    height: 32px;\n",
              "    padding: 0 0 0 0;\n",
              "    width: 32px;\n",
              "  }\n",
              "\n",
              "  .colab-df-quickchart:hover {\n",
              "    background-color: #E2EBFA;\n",
              "    box-shadow: 0px 1px 2px rgba(60, 64, 67, 0.3), 0px 1px 3px 1px rgba(60, 64, 67, 0.15);\n",
              "    fill: #174EA6;\n",
              "  }\n",
              "\n",
              "  [theme=dark] .colab-df-quickchart {\n",
              "    background-color: #3B4455;\n",
              "    fill: #D2E3FC;\n",
              "  }\n",
              "\n",
              "  [theme=dark] .colab-df-quickchart:hover {\n",
              "    background-color: #434B5C;\n",
              "    box-shadow: 0px 1px 3px 1px rgba(0, 0, 0, 0.15);\n",
              "    filter: drop-shadow(0px 1px 2px rgba(0, 0, 0, 0.3));\n",
              "    fill: #FFFFFF;\n",
              "  }\n",
              "</style>\n",
              "\n",
              "    <script>\n",
              "      async function quickchart(key) {\n",
              "        const containerElement = document.querySelector('#' + key);\n",
              "        const charts = await google.colab.kernel.invokeFunction(\n",
              "            'suggestCharts', [key], {});\n",
              "      }\n",
              "    </script>\n",
              "\n",
              "      <script>\n",
              "\n",
              "function displayQuickchartButton(domScope) {\n",
              "  let quickchartButtonEl =\n",
              "    domScope.querySelector('#df-add316ce-0c51-4105-84eb-1616126df6c3 button.colab-df-quickchart');\n",
              "  quickchartButtonEl.style.display =\n",
              "    google.colab.kernel.accessAllowed ? 'block' : 'none';\n",
              "}\n",
              "\n",
              "        displayQuickchartButton(document);\n",
              "      </script>\n",
              "      <style>\n",
              "    .colab-df-container {\n",
              "      display:flex;\n",
              "      flex-wrap:wrap;\n",
              "      gap: 12px;\n",
              "    }\n",
              "\n",
              "    .colab-df-convert {\n",
              "      background-color: #E8F0FE;\n",
              "      border: none;\n",
              "      border-radius: 50%;\n",
              "      cursor: pointer;\n",
              "      display: none;\n",
              "      fill: #1967D2;\n",
              "      height: 32px;\n",
              "      padding: 0 0 0 0;\n",
              "      width: 32px;\n",
              "    }\n",
              "\n",
              "    .colab-df-convert:hover {\n",
              "      background-color: #E2EBFA;\n",
              "      box-shadow: 0px 1px 2px rgba(60, 64, 67, 0.3), 0px 1px 3px 1px rgba(60, 64, 67, 0.15);\n",
              "      fill: #174EA6;\n",
              "    }\n",
              "\n",
              "    [theme=dark] .colab-df-convert {\n",
              "      background-color: #3B4455;\n",
              "      fill: #D2E3FC;\n",
              "    }\n",
              "\n",
              "    [theme=dark] .colab-df-convert:hover {\n",
              "      background-color: #434B5C;\n",
              "      box-shadow: 0px 1px 3px 1px rgba(0, 0, 0, 0.15);\n",
              "      filter: drop-shadow(0px 1px 2px rgba(0, 0, 0, 0.3));\n",
              "      fill: #FFFFFF;\n",
              "    }\n",
              "  </style>\n",
              "\n",
              "      <script>\n",
              "        const buttonEl =\n",
              "          document.querySelector('#df-ac2dda93-5f7d-4c2c-b434-7dec3fad82f1 button.colab-df-convert');\n",
              "        buttonEl.style.display =\n",
              "          google.colab.kernel.accessAllowed ? 'block' : 'none';\n",
              "\n",
              "        async function convertToInteractive(key) {\n",
              "          const element = document.querySelector('#df-ac2dda93-5f7d-4c2c-b434-7dec3fad82f1');\n",
              "          const dataTable =\n",
              "            await google.colab.kernel.invokeFunction('convertToInteractive',\n",
              "                                                     [key], {});\n",
              "          if (!dataTable) return;\n",
              "\n",
              "          const docLinkHtml = 'Like what you see? Visit the ' +\n",
              "            '<a target=\"_blank\" href=https://colab.research.google.com/notebooks/data_table.ipynb>data table notebook</a>'\n",
              "            + ' to learn more about interactive tables.';\n",
              "          element.innerHTML = '';\n",
              "          dataTable['output_type'] = 'display_data';\n",
              "          await google.colab.output.renderOutput(dataTable, element);\n",
              "          const docLink = document.createElement('div');\n",
              "          docLink.innerHTML = docLinkHtml;\n",
              "          element.appendChild(docLink);\n",
              "        }\n",
              "      </script>\n",
              "    </div>\n",
              "  </div>\n"
            ]
          },
          "metadata": {},
          "execution_count": 22
        }
      ]
    },
    {
      "cell_type": "code",
      "source": [
        "data['CustomerId'].duplicated().sum()"
      ],
      "metadata": {
        "colab": {
          "base_uri": "https://localhost:8080/"
        },
        "id": "TkNTvzYLojWw",
        "outputId": "0476aa9b-65ca-4aac-e3e9-818867d1b706"
      },
      "execution_count": 23,
      "outputs": [
        {
          "output_type": "execute_result",
          "data": {
            "text/plain": [
              "0"
            ]
          },
          "metadata": {},
          "execution_count": 23
        }
      ]
    },
    {
      "cell_type": "code",
      "source": [
        "data = data.drop(columns = ['RowNumber','CustomerId', 'Surname'])"
      ],
      "metadata": {
        "id": "kC0KCgzOo6YG"
      },
      "execution_count": 24,
      "outputs": []
    },
    {
      "cell_type": "code",
      "source": [
        "data['Tenure'].unique()"
      ],
      "metadata": {
        "colab": {
          "base_uri": "https://localhost:8080/"
        },
        "id": "SqgsstLwpPQ9",
        "outputId": "51108ab1-f8d7-4719-c472-c0db91d734da"
      },
      "execution_count": 25,
      "outputs": [
        {
          "output_type": "execute_result",
          "data": {
            "text/plain": [
              "array([ 2,  1,  8,  7,  4,  6,  3, 10,  5,  9,  0])"
            ]
          },
          "metadata": {},
          "execution_count": 25
        }
      ]
    },
    {
      "cell_type": "code",
      "source": [
        "X_train,X_test, y_train,y_test = train_test_split(data, y, test_size = 0.25)"
      ],
      "metadata": {
        "id": "x6HG0SEppo72"
      },
      "execution_count": 26,
      "outputs": []
    },
    {
      "cell_type": "code",
      "source": [
        "X_train.shape\n",
        "X_test.shape"
      ],
      "metadata": {
        "colab": {
          "base_uri": "https://localhost:8080/"
        },
        "id": "xUm3VKFLpxnG",
        "outputId": "950e5d13-5cef-4139-d725-0069c7b036d5"
      },
      "execution_count": 27,
      "outputs": [
        {
          "output_type": "execute_result",
          "data": {
            "text/plain": [
              "(7500, 10)"
            ]
          },
          "metadata": {},
          "execution_count": 27
        },
        {
          "output_type": "execute_result",
          "data": {
            "text/plain": [
              "(2500, 10)"
            ]
          },
          "metadata": {},
          "execution_count": 27
        }
      ]
    },
    {
      "cell_type": "code",
      "source": [
        "mm = MinMaxScaler()\n",
        "mm.fit(X_train)"
      ],
      "metadata": {
        "colab": {
          "base_uri": "https://localhost:8080/",
          "height": 75
        },
        "id": "eTWGjVk8pYFO",
        "outputId": "84ce560f-7816-4f28-d3d6-a616daa07c31"
      },
      "execution_count": 28,
      "outputs": [
        {
          "output_type": "execute_result",
          "data": {
            "text/plain": [
              "MinMaxScaler()"
            ],
            "text/html": [
              "<style>#sk-container-id-1 {color: black;background-color: white;}#sk-container-id-1 pre{padding: 0;}#sk-container-id-1 div.sk-toggleable {background-color: white;}#sk-container-id-1 label.sk-toggleable__label {cursor: pointer;display: block;width: 100%;margin-bottom: 0;padding: 0.3em;box-sizing: border-box;text-align: center;}#sk-container-id-1 label.sk-toggleable__label-arrow:before {content: \"▸\";float: left;margin-right: 0.25em;color: #696969;}#sk-container-id-1 label.sk-toggleable__label-arrow:hover:before {color: black;}#sk-container-id-1 div.sk-estimator:hover label.sk-toggleable__label-arrow:before {color: black;}#sk-container-id-1 div.sk-toggleable__content {max-height: 0;max-width: 0;overflow: hidden;text-align: left;background-color: #f0f8ff;}#sk-container-id-1 div.sk-toggleable__content pre {margin: 0.2em;color: black;border-radius: 0.25em;background-color: #f0f8ff;}#sk-container-id-1 input.sk-toggleable__control:checked~div.sk-toggleable__content {max-height: 200px;max-width: 100%;overflow: auto;}#sk-container-id-1 input.sk-toggleable__control:checked~label.sk-toggleable__label-arrow:before {content: \"▾\";}#sk-container-id-1 div.sk-estimator input.sk-toggleable__control:checked~label.sk-toggleable__label {background-color: #d4ebff;}#sk-container-id-1 div.sk-label input.sk-toggleable__control:checked~label.sk-toggleable__label {background-color: #d4ebff;}#sk-container-id-1 input.sk-hidden--visually {border: 0;clip: rect(1px 1px 1px 1px);clip: rect(1px, 1px, 1px, 1px);height: 1px;margin: -1px;overflow: hidden;padding: 0;position: absolute;width: 1px;}#sk-container-id-1 div.sk-estimator {font-family: monospace;background-color: #f0f8ff;border: 1px dotted black;border-radius: 0.25em;box-sizing: border-box;margin-bottom: 0.5em;}#sk-container-id-1 div.sk-estimator:hover {background-color: #d4ebff;}#sk-container-id-1 div.sk-parallel-item::after {content: \"\";width: 100%;border-bottom: 1px solid gray;flex-grow: 1;}#sk-container-id-1 div.sk-label:hover label.sk-toggleable__label {background-color: #d4ebff;}#sk-container-id-1 div.sk-serial::before {content: \"\";position: absolute;border-left: 1px solid gray;box-sizing: border-box;top: 0;bottom: 0;left: 50%;z-index: 0;}#sk-container-id-1 div.sk-serial {display: flex;flex-direction: column;align-items: center;background-color: white;padding-right: 0.2em;padding-left: 0.2em;position: relative;}#sk-container-id-1 div.sk-item {position: relative;z-index: 1;}#sk-container-id-1 div.sk-parallel {display: flex;align-items: stretch;justify-content: center;background-color: white;position: relative;}#sk-container-id-1 div.sk-item::before, #sk-container-id-1 div.sk-parallel-item::before {content: \"\";position: absolute;border-left: 1px solid gray;box-sizing: border-box;top: 0;bottom: 0;left: 50%;z-index: -1;}#sk-container-id-1 div.sk-parallel-item {display: flex;flex-direction: column;z-index: 1;position: relative;background-color: white;}#sk-container-id-1 div.sk-parallel-item:first-child::after {align-self: flex-end;width: 50%;}#sk-container-id-1 div.sk-parallel-item:last-child::after {align-self: flex-start;width: 50%;}#sk-container-id-1 div.sk-parallel-item:only-child::after {width: 0;}#sk-container-id-1 div.sk-dashed-wrapped {border: 1px dashed gray;margin: 0 0.4em 0.5em 0.4em;box-sizing: border-box;padding-bottom: 0.4em;background-color: white;}#sk-container-id-1 div.sk-label label {font-family: monospace;font-weight: bold;display: inline-block;line-height: 1.2em;}#sk-container-id-1 div.sk-label-container {text-align: center;}#sk-container-id-1 div.sk-container {/* jupyter's `normalize.less` sets `[hidden] { display: none; }` but bootstrap.min.css set `[hidden] { display: none !important; }` so we also need the `!important` here to be able to override the default hidden behavior on the sphinx rendered scikit-learn.org. See: https://github.com/scikit-learn/scikit-learn/issues/21755 */display: inline-block !important;position: relative;}#sk-container-id-1 div.sk-text-repr-fallback {display: none;}</style><div id=\"sk-container-id-1\" class=\"sk-top-container\"><div class=\"sk-text-repr-fallback\"><pre>MinMaxScaler()</pre><b>In a Jupyter environment, please rerun this cell to show the HTML representation or trust the notebook. <br />On GitHub, the HTML representation is unable to render, please try loading this page with nbviewer.org.</b></div><div class=\"sk-container\" hidden><div class=\"sk-item\"><div class=\"sk-estimator sk-toggleable\"><input class=\"sk-toggleable__control sk-hidden--visually\" id=\"sk-estimator-id-1\" type=\"checkbox\" checked><label for=\"sk-estimator-id-1\" class=\"sk-toggleable__label sk-toggleable__label-arrow\">MinMaxScaler</label><div class=\"sk-toggleable__content\"><pre>MinMaxScaler()</pre></div></div></div></div></div>"
            ]
          },
          "metadata": {},
          "execution_count": 28
        }
      ]
    },
    {
      "cell_type": "code",
      "source": [
        "X_train = mm.transform(X_train)\n",
        "X_test = mm.transform(X_test)"
      ],
      "metadata": {
        "id": "kb_YJ-w3p_7-"
      },
      "execution_count": 29,
      "outputs": []
    },
    {
      "cell_type": "markdown",
      "source": [
        "## Model"
      ],
      "metadata": {
        "id": "BKGxZacvpAUU"
      }
    },
    {
      "cell_type": "code",
      "source": [
        "# 6.0\n",
        "model = tf.keras.Sequential()"
      ],
      "metadata": {
        "id": "3u7a51m5Ixfm"
      },
      "execution_count": 30,
      "outputs": []
    },
    {
      "cell_type": "code",
      "source": [
        "model.add(tf.keras.Input(shape=(10,)))"
      ],
      "metadata": {
        "id": "G1B4GMZ_LdEe"
      },
      "execution_count": 31,
      "outputs": []
    },
    {
      "cell_type": "code",
      "source": [
        "model.add(tf.keras.layers.Dense(10, activation =\"relu\"))"
      ],
      "metadata": {
        "id": "hDWA63FnL1jz"
      },
      "execution_count": 33,
      "outputs": []
    },
    {
      "cell_type": "code",
      "source": [
        "model.add(tf.keras.layers.Dense(100, activation = \"relu\"))"
      ],
      "metadata": {
        "id": "nGaul7GXMcwM"
      },
      "execution_count": 35,
      "outputs": []
    },
    {
      "cell_type": "code",
      "source": [
        "model.add(tf.keras.layers.Dense(1, activation = \"sigmoid\"))"
      ],
      "metadata": {
        "id": "ou0qNEtfMdDa"
      },
      "execution_count": 36,
      "outputs": []
    },
    {
      "cell_type": "code",
      "source": [
        "model.summary()"
      ],
      "metadata": {
        "id": "xLYyojVUM01Z",
        "outputId": "b513fd3e-566c-481c-cef9-90710529e9ef",
        "colab": {
          "base_uri": "https://localhost:8080/"
        }
      },
      "execution_count": 37,
      "outputs": [
        {
          "output_type": "stream",
          "name": "stdout",
          "text": [
            "Model: \"sequential\"\n",
            "_________________________________________________________________\n",
            " Layer (type)                Output Shape              Param #   \n",
            "=================================================================\n",
            " dense (Dense)               (None, 10)                110       \n",
            "                                                                 \n",
            " dense_1 (Dense)             (None, 100)               1100      \n",
            "                                                                 \n",
            " dense_2 (Dense)             (None, 1)                 101       \n",
            "                                                                 \n",
            "=================================================================\n",
            "Total params: 1,311\n",
            "Trainable params: 1,311\n",
            "Non-trainable params: 0\n",
            "_________________________________________________________________\n"
          ]
        }
      ]
    },
    {
      "cell_type": "code",
      "source": [
        "from tensorflow.keras.utils import plot_model"
      ],
      "metadata": {
        "id": "6t_nnI-yNS-Z"
      },
      "execution_count": 39,
      "outputs": []
    },
    {
      "cell_type": "code",
      "source": [
        "# 6.1\n",
        "model.add( tf.keras.layers.Input(shape = (10,) ))"
      ],
      "metadata": {
        "id": "71VW2avIJEsh"
      },
      "execution_count": null,
      "outputs": []
    },
    {
      "cell_type": "code",
      "source": [
        "plot_model(model, show_shapes = True)"
      ],
      "metadata": {
        "id": "-EEuaOG2Nlp3",
        "outputId": "fad03cbc-a4f8-43e2-f358-a92fa359a79a",
        "colab": {
          "base_uri": "https://localhost:8080/",
          "height": 422
        }
      },
      "execution_count": 41,
      "outputs": [
        {
          "output_type": "execute_result",
          "data": {
            "image/png": "[encoded data removed]",
            "text/plain": [
              "<IPython.core.display.Image object>"
            ]
          },
          "metadata": {},
          "execution_count": 41
        }
      ]
    },
    {
      "cell_type": "code",
      "source": [
        "model.compile(\n",
        "                 loss = 'binary_crossentropy',\n",
        "                 optimizer = 'adam',  # Try first with default optimizer and then with 'adam'\n",
        "                                      #  may not make much difference\n",
        "                 metrics = ['acc']\n",
        "              )"
      ],
      "metadata": {
        "id": "DiE6fhIjNk65"
      },
      "execution_count": 42,
      "outputs": []
    },
    {
      "cell_type": "code",
      "source": [
        "model.fit(X_train, y_train, epochs =120)"
      ],
      "metadata": {
        "id": "CQ2Ye8VQOXdH",
        "outputId": "ad5664a9-ba38-4fe1-ad7e-1bcb076ee3bc",
        "colab": {
          "base_uri": "https://localhost:8080/"
        }
      },
      "execution_count": 44,
      "outputs": [
        {
          "output_type": "stream",
          "name": "stdout",
          "text": [
            "Epoch 1/120\n",
            "235/235 [==============================] - 2s 2ms/step - loss: 0.5166 - acc: 0.7864\n",
            "Epoch 2/120\n",
            "235/235 [==============================] - 1s 2ms/step - loss: 0.4590 - acc: 0.8056\n",
            "Epoch 3/120\n",
            "235/235 [==============================] - 0s 2ms/step - loss: 0.4418 - acc: 0.8139\n",
            "Epoch 4/120\n",
            "235/235 [==============================] - 0s 2ms/step - loss: 0.4315 - acc: 0.8201\n",
            "Epoch 5/120\n",
            "235/235 [==============================] - 0s 2ms/step - loss: 0.4263 - acc: 0.8204\n",
            "Epoch 6/120\n",
            "235/235 [==============================] - 0s 2ms/step - loss: 0.4158 - acc: 0.8201\n",
            "Epoch 7/120\n",
            "235/235 [==============================] - 0s 2ms/step - loss: 0.4017 - acc: 0.8279\n",
            "Epoch 8/120\n",
            "235/235 [==============================] - 0s 2ms/step - loss: 0.3863 - acc: 0.8371\n",
            "Epoch 9/120\n",
            "235/235 [==============================] - 0s 2ms/step - loss: 0.3737 - acc: 0.8452\n",
            "Epoch 10/120\n",
            "235/235 [==============================] - 0s 2ms/step - loss: 0.3670 - acc: 0.8481\n",
            "Epoch 11/120\n",
            "235/235 [==============================] - 0s 2ms/step - loss: 0.3617 - acc: 0.8483\n",
            "Epoch 12/120\n",
            "235/235 [==============================] - 0s 2ms/step - loss: 0.3580 - acc: 0.8517\n",
            "Epoch 13/120\n",
            "235/235 [==============================] - 1s 3ms/step - loss: 0.3570 - acc: 0.8520\n",
            "Epoch 14/120\n",
            "235/235 [==============================] - 1s 3ms/step - loss: 0.3555 - acc: 0.8520\n",
            "Epoch 15/120\n",
            "235/235 [==============================] - 1s 3ms/step - loss: 0.3540 - acc: 0.8551\n",
            "Epoch 16/120\n",
            "235/235 [==============================] - 1s 3ms/step - loss: 0.3525 - acc: 0.8548\n",
            "Epoch 17/120\n",
            "235/235 [==============================] - 1s 3ms/step - loss: 0.3520 - acc: 0.8548\n",
            "Epoch 18/120\n",
            "235/235 [==============================] - 1s 3ms/step - loss: 0.3519 - acc: 0.8556\n",
            "Epoch 19/120\n",
            "235/235 [==============================] - 1s 3ms/step - loss: 0.3493 - acc: 0.8544\n",
            "Epoch 20/120\n",
            "235/235 [==============================] - 1s 2ms/step - loss: 0.3497 - acc: 0.8560\n",
            "Epoch 21/120\n",
            "235/235 [==============================] - 0s 2ms/step - loss: 0.3486 - acc: 0.8580\n",
            "Epoch 22/120\n",
            "235/235 [==============================] - 0s 2ms/step - loss: 0.3477 - acc: 0.8572\n",
            "Epoch 23/120\n",
            "235/235 [==============================] - 0s 2ms/step - loss: 0.3479 - acc: 0.8579\n",
            "Epoch 24/120\n",
            "235/235 [==============================] - 0s 2ms/step - loss: 0.3454 - acc: 0.8608\n",
            "Epoch 25/120\n",
            "235/235 [==============================] - 0s 2ms/step - loss: 0.3472 - acc: 0.8561\n",
            "Epoch 26/120\n",
            "235/235 [==============================] - 0s 2ms/step - loss: 0.3471 - acc: 0.8568\n",
            "Epoch 27/120\n",
            "235/235 [==============================] - 0s 2ms/step - loss: 0.3443 - acc: 0.8576\n",
            "Epoch 28/120\n",
            "235/235 [==============================] - 0s 2ms/step - loss: 0.3435 - acc: 0.8595\n",
            "Epoch 29/120\n",
            "235/235 [==============================] - 0s 2ms/step - loss: 0.3428 - acc: 0.8600\n",
            "Epoch 30/120\n",
            "235/235 [==============================] - 0s 2ms/step - loss: 0.3425 - acc: 0.8579\n",
            "Epoch 31/120\n",
            "235/235 [==============================] - 0s 2ms/step - loss: 0.3423 - acc: 0.8600\n",
            "Epoch 32/120\n",
            "235/235 [==============================] - 0s 2ms/step - loss: 0.3433 - acc: 0.8593\n",
            "Epoch 33/120\n",
            "235/235 [==============================] - 0s 2ms/step - loss: 0.3405 - acc: 0.8597\n",
            "Epoch 34/120\n",
            "235/235 [==============================] - 0s 2ms/step - loss: 0.3397 - acc: 0.8605\n",
            "Epoch 35/120\n",
            "235/235 [==============================] - 0s 2ms/step - loss: 0.3417 - acc: 0.8588\n",
            "Epoch 36/120\n",
            "235/235 [==============================] - 0s 2ms/step - loss: 0.3402 - acc: 0.8645\n",
            "Epoch 37/120\n",
            "235/235 [==============================] - 0s 2ms/step - loss: 0.3384 - acc: 0.8612\n",
            "Epoch 38/120\n",
            "235/235 [==============================] - 0s 2ms/step - loss: 0.3400 - acc: 0.8597\n",
            "Epoch 39/120\n",
            "235/235 [==============================] - 0s 2ms/step - loss: 0.3383 - acc: 0.8605\n",
            "Epoch 40/120\n",
            "235/235 [==============================] - 0s 2ms/step - loss: 0.3387 - acc: 0.8644\n",
            "Epoch 41/120\n",
            "235/235 [==============================] - 0s 2ms/step - loss: 0.3370 - acc: 0.8624\n",
            "Epoch 42/120\n",
            "235/235 [==============================] - 0s 2ms/step - loss: 0.3361 - acc: 0.8628\n",
            "Epoch 43/120\n",
            "235/235 [==============================] - 1s 3ms/step - loss: 0.3354 - acc: 0.8609\n",
            "Epoch 44/120\n",
            "235/235 [==============================] - 1s 3ms/step - loss: 0.3365 - acc: 0.8600\n",
            "Epoch 45/120\n",
            "235/235 [==============================] - 1s 3ms/step - loss: 0.3364 - acc: 0.8647\n",
            "Epoch 46/120\n",
            "235/235 [==============================] - 1s 2ms/step - loss: 0.3352 - acc: 0.8639\n",
            "Epoch 47/120\n",
            "235/235 [==============================] - 1s 3ms/step - loss: 0.3342 - acc: 0.8635\n",
            "Epoch 48/120\n",
            "235/235 [==============================] - 1s 3ms/step - loss: 0.3342 - acc: 0.8656\n",
            "Epoch 49/120\n",
            "235/235 [==============================] - 1s 3ms/step - loss: 0.3331 - acc: 0.8631\n",
            "Epoch 50/120\n",
            "235/235 [==============================] - 1s 2ms/step - loss: 0.3326 - acc: 0.8648\n",
            "Epoch 51/120\n",
            "235/235 [==============================] - 0s 2ms/step - loss: 0.3337 - acc: 0.8629\n",
            "Epoch 52/120\n",
            "235/235 [==============================] - 0s 2ms/step - loss: 0.3328 - acc: 0.8628\n",
            "Epoch 53/120\n",
            "235/235 [==============================] - 0s 2ms/step - loss: 0.3335 - acc: 0.8619\n",
            "Epoch 54/120\n",
            "235/235 [==============================] - 0s 2ms/step - loss: 0.3317 - acc: 0.8645\n",
            "Epoch 55/120\n",
            "235/235 [==============================] - 0s 2ms/step - loss: 0.3312 - acc: 0.8621\n",
            "Epoch 56/120\n",
            "235/235 [==============================] - 0s 2ms/step - loss: 0.3313 - acc: 0.8652\n",
            "Epoch 57/120\n",
            "235/235 [==============================] - 0s 2ms/step - loss: 0.3313 - acc: 0.8637\n",
            "Epoch 58/120\n",
            "235/235 [==============================] - 0s 2ms/step - loss: 0.3302 - acc: 0.8640\n",
            "Epoch 59/120\n",
            "235/235 [==============================] - 0s 2ms/step - loss: 0.3295 - acc: 0.8653\n",
            "Epoch 60/120\n",
            "235/235 [==============================] - 0s 2ms/step - loss: 0.3295 - acc: 0.8640\n",
            "Epoch 61/120\n",
            "235/235 [==============================] - 0s 2ms/step - loss: 0.3289 - acc: 0.8641\n",
            "Epoch 62/120\n",
            "235/235 [==============================] - 0s 2ms/step - loss: 0.3285 - acc: 0.8653\n",
            "Epoch 63/120\n",
            "235/235 [==============================] - 0s 2ms/step - loss: 0.3282 - acc: 0.8644\n",
            "Epoch 64/120\n",
            "235/235 [==============================] - 0s 2ms/step - loss: 0.3281 - acc: 0.8669\n",
            "Epoch 65/120\n",
            "235/235 [==============================] - 0s 2ms/step - loss: 0.3276 - acc: 0.8649\n",
            "Epoch 66/120\n",
            "235/235 [==============================] - 0s 2ms/step - loss: 0.3278 - acc: 0.8667\n",
            "Epoch 67/120\n",
            "235/235 [==============================] - 0s 2ms/step - loss: 0.3265 - acc: 0.8661\n",
            "Epoch 68/120\n",
            "235/235 [==============================] - 0s 2ms/step - loss: 0.3267 - acc: 0.8657\n",
            "Epoch 69/120\n",
            "235/235 [==============================] - 0s 2ms/step - loss: 0.3268 - acc: 0.8639\n",
            "Epoch 70/120\n",
            "235/235 [==============================] - 0s 2ms/step - loss: 0.3250 - acc: 0.8659\n",
            "Epoch 71/120\n",
            "235/235 [==============================] - 0s 2ms/step - loss: 0.3270 - acc: 0.8665\n",
            "Epoch 72/120\n",
            "235/235 [==============================] - 0s 2ms/step - loss: 0.3255 - acc: 0.8645\n",
            "Epoch 73/120\n",
            "235/235 [==============================] - 1s 2ms/step - loss: 0.3268 - acc: 0.8627\n",
            "Epoch 74/120\n",
            "235/235 [==============================] - 1s 3ms/step - loss: 0.3252 - acc: 0.8679\n",
            "Epoch 75/120\n",
            "235/235 [==============================] - 1s 3ms/step - loss: 0.3246 - acc: 0.8663\n",
            "Epoch 76/120\n",
            "235/235 [==============================] - 1s 3ms/step - loss: 0.3261 - acc: 0.8687\n",
            "Epoch 77/120\n",
            "235/235 [==============================] - 1s 3ms/step - loss: 0.3245 - acc: 0.8668\n",
            "Epoch 78/120\n",
            "235/235 [==============================] - 1s 3ms/step - loss: 0.3254 - acc: 0.8649\n",
            "Epoch 79/120\n",
            "235/235 [==============================] - 1s 2ms/step - loss: 0.3238 - acc: 0.8656\n",
            "Epoch 80/120\n",
            "235/235 [==============================] - 1s 2ms/step - loss: 0.3246 - acc: 0.8676\n",
            "Epoch 81/120\n",
            "235/235 [==============================] - 1s 2ms/step - loss: 0.3240 - acc: 0.8677\n",
            "Epoch 82/120\n",
            "235/235 [==============================] - 0s 2ms/step - loss: 0.3236 - acc: 0.8669\n",
            "Epoch 83/120\n",
            "235/235 [==============================] - 0s 2ms/step - loss: 0.3250 - acc: 0.8649\n",
            "Epoch 84/120\n",
            "235/235 [==============================] - 0s 2ms/step - loss: 0.3232 - acc: 0.8668\n",
            "Epoch 85/120\n",
            "235/235 [==============================] - 0s 2ms/step - loss: 0.3236 - acc: 0.8665\n",
            "Epoch 86/120\n",
            "235/235 [==============================] - 0s 2ms/step - loss: 0.3223 - acc: 0.8671\n",
            "Epoch 87/120\n",
            "235/235 [==============================] - 0s 2ms/step - loss: 0.3240 - acc: 0.8657\n",
            "Epoch 88/120\n",
            "235/235 [==============================] - 0s 2ms/step - loss: 0.3233 - acc: 0.8652\n",
            "Epoch 89/120\n",
            "235/235 [==============================] - 1s 2ms/step - loss: 0.3226 - acc: 0.8676\n",
            "Epoch 90/120\n",
            "235/235 [==============================] - 0s 2ms/step - loss: 0.3228 - acc: 0.8687\n",
            "Epoch 91/120\n",
            "235/235 [==============================] - 0s 2ms/step - loss: 0.3222 - acc: 0.8667\n",
            "Epoch 92/120\n",
            "235/235 [==============================] - 0s 2ms/step - loss: 0.3209 - acc: 0.8657\n",
            "Epoch 93/120\n",
            "235/235 [==============================] - 1s 2ms/step - loss: 0.3220 - acc: 0.8659\n",
            "Epoch 94/120\n",
            "235/235 [==============================] - 0s 2ms/step - loss: 0.3227 - acc: 0.8680\n",
            "Epoch 95/120\n",
            "235/235 [==============================] - 0s 2ms/step - loss: 0.3212 - acc: 0.8672\n",
            "Epoch 96/120\n",
            "235/235 [==============================] - 1s 2ms/step - loss: 0.3211 - acc: 0.8671\n",
            "Epoch 97/120\n",
            "235/235 [==============================] - 0s 2ms/step - loss: 0.3217 - acc: 0.8671\n",
            "Epoch 98/120\n",
            "235/235 [==============================] - 0s 2ms/step - loss: 0.3215 - acc: 0.8695\n",
            "Epoch 99/120\n",
            "235/235 [==============================] - 0s 2ms/step - loss: 0.3211 - acc: 0.8684\n",
            "Epoch 100/120\n",
            "235/235 [==============================] - 0s 2ms/step - loss: 0.3212 - acc: 0.8691\n",
            "Epoch 101/120\n",
            "235/235 [==============================] - 0s 2ms/step - loss: 0.3212 - acc: 0.8684\n",
            "Epoch 102/120\n",
            "235/235 [==============================] - 0s 2ms/step - loss: 0.3200 - acc: 0.8672\n",
            "Epoch 103/120\n",
            "235/235 [==============================] - 1s 2ms/step - loss: 0.3195 - acc: 0.8680\n",
            "Epoch 104/120\n",
            "235/235 [==============================] - 1s 3ms/step - loss: 0.3193 - acc: 0.8683\n",
            "Epoch 105/120\n",
            "235/235 [==============================] - 1s 3ms/step - loss: 0.3197 - acc: 0.8681\n",
            "Epoch 106/120\n",
            "235/235 [==============================] - 1s 3ms/step - loss: 0.3205 - acc: 0.8677\n",
            "Epoch 107/120\n",
            "235/235 [==============================] - 1s 2ms/step - loss: 0.3199 - acc: 0.8685\n",
            "Epoch 108/120\n",
            "235/235 [==============================] - 1s 3ms/step - loss: 0.3188 - acc: 0.8697\n",
            "Epoch 109/120\n",
            "235/235 [==============================] - 1s 2ms/step - loss: 0.3192 - acc: 0.8692\n",
            "Epoch 110/120\n",
            "235/235 [==============================] - 1s 3ms/step - loss: 0.3202 - acc: 0.8660\n",
            "Epoch 111/120\n",
            "235/235 [==============================] - 0s 2ms/step - loss: 0.3188 - acc: 0.8657\n",
            "Epoch 112/120\n",
            "235/235 [==============================] - 0s 2ms/step - loss: 0.3181 - acc: 0.8693\n",
            "Epoch 113/120\n",
            "235/235 [==============================] - 0s 2ms/step - loss: 0.3183 - acc: 0.8683\n",
            "Epoch 114/120\n",
            "235/235 [==============================] - 0s 2ms/step - loss: 0.3179 - acc: 0.8704\n",
            "Epoch 115/120\n",
            "235/235 [==============================] - 0s 2ms/step - loss: 0.3184 - acc: 0.8681\n",
            "Epoch 116/120\n",
            "235/235 [==============================] - 0s 2ms/step - loss: 0.3169 - acc: 0.8685\n",
            "Epoch 117/120\n",
            "235/235 [==============================] - 0s 2ms/step - loss: 0.3179 - acc: 0.8679\n",
            "Epoch 118/120\n",
            "235/235 [==============================] - 0s 2ms/step - loss: 0.3172 - acc: 0.8688\n",
            "Epoch 119/120\n",
            "235/235 [==============================] - 0s 2ms/step - loss: 0.3186 - acc: 0.8680\n",
            "Epoch 120/120\n",
            "235/235 [==============================] - 0s 2ms/step - loss: 0.3186 - acc: 0.8681\n"
          ]
        },
        {
          "output_type": "execute_result",
          "data": {
            "text/plain": [
              "<keras.callbacks.History at 0x7908718ce3b0>"
            ]
          },
          "metadata": {},
          "execution_count": 44
        }
      ]
    },
    {
      "cell_type": "code",
      "source": [
        "# 6.2 Start\n",
        "model.add(tf.keras.layers.Dense(40, activation = 'relu'))  # MAke it 5 and then 20 (not more or less)"
      ],
      "metadata": {
        "id": "fUDftH3BJ_-L"
      },
      "execution_count": null,
      "outputs": []
    },
    {
      "cell_type": "code",
      "source": [
        "# 6.2.1 Experiment with adding a dropout layer\n",
        "#       but then increase number of units in Dense layer from 20 to 40\n",
        "model.add(tf.keras.layers.Dropout(rate = 0.5 ))"
      ],
      "metadata": {
        "id": "NNAVQxIDwuVk"
      },
      "execution_count": null,
      "outputs": []
    },
    {
      "cell_type": "code",
      "source": [
        "model.add(tf.keras.layers.Dense(20, activation = 'relu'))\n",
        "model.add(tf.keras.layers.Dropout(rate = 0.5 ))"
      ],
      "metadata": {
        "id": "Dj5lOyfyyDaQ"
      },
      "execution_count": null,
      "outputs": []
    },
    {
      "cell_type": "code",
      "source": [
        "model.add(tf.keras.layers.Dense(10, activation = 'relu'))\n",
        "model.add(tf.keras.layers.Dropout(rate = 0.5 ))"
      ],
      "metadata": {
        "id": "8zHYh7XCy2cJ"
      },
      "execution_count": null,
      "outputs": []
    },
    {
      "cell_type": "code",
      "source": [
        "# 6.3 Experiment first with activation of sigmoid\n",
        "#     and then no activation function\n",
        "model.add(tf.keras.layers.Dense(1, activation = 'sigmoid'))    # Keep sigmoid; then remove sigmoid"
      ],
      "metadata": {
        "id": "glw8SP83KQBL"
      },
      "execution_count": null,
      "outputs": []
    },
    {
      "cell_type": "code",
      "source": [
        "# 6.4 Model summary:\n",
        "model.summary()"
      ],
      "metadata": {
        "id": "HcfvweBLKWiQ"
      },
      "execution_count": null,
      "outputs": []
    },
    {
      "cell_type": "code",
      "source": [
        "# 6.5 Compile model\n",
        "#     Expt with adam\n",
        "model.compile(\n",
        "                 loss = 'binary_crossentropy',\n",
        "                 optimizer = 'adam',  # Try first with default optimizer and then with 'adam'\n",
        "                                      #  may not make much difference\n",
        "                 metrics = ['acc']\n",
        "              )"
      ],
      "metadata": {
        "id": "6LLk36OpKYIJ"
      },
      "execution_count": null,
      "outputs": []
    },
    {
      "cell_type": "code",
      "source": [
        "# 7.0\n",
        "#\n",
        "history1 = model.fit(X_train,y_train,\n",
        "                    epochs = 70,\n",
        "                    validation_data = (X_test, y_test)\n",
        "                   )"
      ],
      "metadata": {
        "id": "SxH9wqFAKj6R"
      },
      "execution_count": null,
      "outputs": []
    },
    {
      "cell_type": "code",
      "source": [
        "# 7.1\n",
        "model.evaluate(X_test,y_test)"
      ],
      "metadata": {
        "id": "E8CUmuEXKsgT"
      },
      "execution_count": null,
      "outputs": []
    },
    {
      "cell_type": "code",
      "source": [
        "type(history.history)"
      ],
      "metadata": {
        "id": "HVfYqFnhtU5G"
      },
      "execution_count": null,
      "outputs": []
    },
    {
      "cell_type": "code",
      "source": [
        "history.history.keys()"
      ],
      "metadata": {
        "id": "pnlVFrNftfMd"
      },
      "execution_count": null,
      "outputs": []
    },
    {
      "cell_type": "code",
      "source": [
        "# Plot without dropouts\n",
        "loss = history.history['loss']\n",
        "val_loss = history.history['val_loss']\n",
        "plt.plot(loss)\n",
        "plt.plot(val_loss)"
      ],
      "metadata": {
        "id": "J-tjG6G-s44n"
      },
      "execution_count": null,
      "outputs": []
    },
    {
      "cell_type": "code",
      "source": [
        "# plot with dropouts\n",
        "loss = history1.history['loss']\n",
        "val_loss = history1.history['val_loss']\n",
        "plt.plot(loss, label = \"train_loss\")\n",
        "plt.plot(val_loss, label = \"val loss\")\n",
        "plt.legend()"
      ],
      "metadata": {
        "id": "tNBE_vPZt00F"
      },
      "execution_count": null,
      "outputs": []
    },
    {
      "cell_type": "code",
      "source": [
        "######################### I am done #################"
      ],
      "metadata": {
        "id": "bzQX6UdZK-E-"
      },
      "execution_count": null,
      "outputs": []
    }
  ]
}